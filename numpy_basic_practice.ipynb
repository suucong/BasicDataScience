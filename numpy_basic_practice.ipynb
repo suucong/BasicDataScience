{
 "cells": [
  {
   "cell_type": "markdown",
   "id": "7d86ecef-4f76-4c2a-8501-f62b1f4bcabc",
   "metadata": {
    "jp-MarkdownHeadingCollapsed": true
   },
   "source": [
    "# Numpy"
   ]
  },
  {
   "cell_type": "code",
   "execution_count": 124,
   "id": "a052aaf1-5b79-45bb-b055-8dc805c3332c",
   "metadata": {},
   "outputs": [],
   "source": [
    "import numpy as np"
   ]
  },
  {
   "cell_type": "markdown",
   "id": "9907601a-9e18-493f-8347-1184b2bbd7e0",
   "metadata": {
    "jp-MarkdownHeadingCollapsed": true
   },
   "source": [
    "## Arrays and Vectorized Computation\n",
    "- ndarray is faster than integer data structure"
   ]
  },
  {
   "cell_type": "code",
   "execution_count": 125,
   "id": "3b098071-0178-44da-8c88-f381694e7477",
   "metadata": {},
   "outputs": [
    {
     "name": "stdout",
     "output_type": "stream",
     "text": [
      "505 ms ± 6.24 ms per loop (mean ± std. dev. of 7 runs, 1 loop each)\n"
     ]
    }
   ],
   "source": [
    "# Using python\n",
    "my_list = list(range(1000000)) # return 0 ~ 999,999\n",
    "%timeit for _ in range(10): my_list2 = [2 * x for x in my_list]"
   ]
  },
  {
   "cell_type": "code",
   "execution_count": 126,
   "id": "e41742c4-1a70-471e-9f2e-7e4c397bc21b",
   "metadata": {},
   "outputs": [
    {
     "name": "stdout",
     "output_type": "stream",
     "text": [
      "4.78 ms ± 184 µs per loop (mean ± std. dev. of 7 runs, 100 loops each)\n"
     ]
    }
   ],
   "source": [
    "# Using numpy\n",
    "my_arr = np.arange(1000000) # return ndarray 0 ~ 999,999\n",
    "%timeit for _ in range(10): myarr2 = my_arr * 2"
   ]
  },
  {
   "cell_type": "code",
   "execution_count": 127,
   "id": "f3fb3555-718a-4dd4-9e8a-ee0b74bd59a0",
   "metadata": {},
   "outputs": [
    {
     "data": {
      "text/plain": [
       "\u001b[0;31mType:\u001b[0m        ndarray\n",
       "\u001b[0;31mString form:\u001b[0m [     0      1      2 ... 999997 999998 999999]\n",
       "\u001b[0;31mLength:\u001b[0m      1000000\n",
       "\u001b[0;31mFile:\u001b[0m        /Library/Frameworks/Python.framework/Versions/3.8/lib/python3.8/site-packages/numpy/__init__.py\n",
       "\u001b[0;31mDocstring:\u001b[0m  \n",
       "ndarray(shape, dtype=float, buffer=None, offset=0,\n",
       "        strides=None, order=None)\n",
       "\n",
       "An array object represents a multidimensional, homogeneous array\n",
       "of fixed-size items.  An associated data-type object describes the\n",
       "format of each element in the array (its byte-order, how many bytes it\n",
       "occupies in memory, whether it is an integer, a floating point number,\n",
       "or something else, etc.)\n",
       "\n",
       "Arrays should be constructed using `array`, `zeros` or `empty` (refer\n",
       "to the See Also section below).  The parameters given here refer to\n",
       "a low-level method (`ndarray(...)`) for instantiating an array.\n",
       "\n",
       "For more information, refer to the `numpy` module and examine the\n",
       "methods and attributes of an array.\n",
       "\n",
       "Parameters\n",
       "----------\n",
       "(for the __new__ method; see Notes below)\n",
       "\n",
       "shape : tuple of ints\n",
       "    Shape of created array.\n",
       "dtype : data-type, optional\n",
       "    Any object that can be interpreted as a numpy data type.\n",
       "buffer : object exposing buffer interface, optional\n",
       "    Used to fill the array with data.\n",
       "offset : int, optional\n",
       "    Offset of array data in buffer.\n",
       "strides : tuple of ints, optional\n",
       "    Strides of data in memory.\n",
       "order : {'C', 'F'}, optional\n",
       "    Row-major (C-style) or column-major (Fortran-style) order.\n",
       "\n",
       "Attributes\n",
       "----------\n",
       "T : ndarray\n",
       "    Transpose of the array.\n",
       "data : buffer\n",
       "    The array's elements, in memory.\n",
       "dtype : dtype object\n",
       "    Describes the format of the elements in the array.\n",
       "flags : dict\n",
       "    Dictionary containing information related to memory use, e.g.,\n",
       "    'C_CONTIGUOUS', 'OWNDATA', 'WRITEABLE', etc.\n",
       "flat : numpy.flatiter object\n",
       "    Flattened version of the array as an iterator.  The iterator\n",
       "    allows assignments, e.g., ``x.flat = 3`` (See `ndarray.flat` for\n",
       "    assignment examples; TODO).\n",
       "imag : ndarray\n",
       "    Imaginary part of the array.\n",
       "real : ndarray\n",
       "    Real part of the array.\n",
       "size : int\n",
       "    Number of elements in the array.\n",
       "itemsize : int\n",
       "    The memory use of each array element in bytes.\n",
       "nbytes : int\n",
       "    The total number of bytes required to store the array data,\n",
       "    i.e., ``itemsize * size``.\n",
       "ndim : int\n",
       "    The array's number of dimensions.\n",
       "shape : tuple of ints\n",
       "    Shape of the array.\n",
       "strides : tuple of ints\n",
       "    The step-size required to move from one element to the next in\n",
       "    memory. For example, a contiguous ``(3, 4)`` array of type\n",
       "    ``int16`` in C-order has strides ``(8, 2)``.  This implies that\n",
       "    to move from element to element in memory requires jumps of 2 bytes.\n",
       "    To move from row-to-row, one needs to jump 8 bytes at a time\n",
       "    (``2 * 4``).\n",
       "ctypes : ctypes object\n",
       "    Class containing properties of the array needed for interaction\n",
       "    with ctypes.\n",
       "base : ndarray\n",
       "    If the array is a view into another array, that array is its `base`\n",
       "    (unless that array is also a view).  The `base` array is where the\n",
       "    array data is actually stored.\n",
       "\n",
       "See Also\n",
       "--------\n",
       "array : Construct an array.\n",
       "zeros : Create an array, each element of which is zero.\n",
       "empty : Create an array, but leave its allocated memory unchanged (i.e.,\n",
       "        it contains \"garbage\").\n",
       "dtype : Create a data-type.\n",
       "numpy.typing.NDArray : An ndarray alias :term:`generic <generic type>`\n",
       "                       w.r.t. its `dtype.type <numpy.dtype.type>`.\n",
       "\n",
       "Notes\n",
       "-----\n",
       "There are two modes of creating an array using ``__new__``:\n",
       "\n",
       "1. If `buffer` is None, then only `shape`, `dtype`, and `order`\n",
       "   are used.\n",
       "2. If `buffer` is an object exposing the buffer interface, then\n",
       "   all keywords are interpreted.\n",
       "\n",
       "No ``__init__`` method is needed because the array is fully initialized\n",
       "after the ``__new__`` method.\n",
       "\n",
       "Examples\n",
       "--------\n",
       "These examples illustrate the low-level `ndarray` constructor.  Refer\n",
       "to the `See Also` section above for easier ways of constructing an\n",
       "ndarray.\n",
       "\n",
       "First mode, `buffer` is None:\n",
       "\n",
       ">>> np.ndarray(shape=(2,2), dtype=float, order='F')\n",
       "array([[0.0e+000, 0.0e+000], # random\n",
       "       [     nan, 2.5e-323]])\n",
       "\n",
       "Second mode:\n",
       "\n",
       ">>> np.ndarray((2,), buffer=np.array([1,2,3]),\n",
       "...            offset=np.int_().itemsize,\n",
       "...            dtype=int) # offset = 1*itemsize, i.e. skip first element\n",
       "array([2, 3])"
      ]
     },
     "metadata": {},
     "output_type": "display_data"
    }
   ],
   "source": [
    "my_arr?"
   ]
  },
  {
   "cell_type": "markdown",
   "id": "01970193-7129-4211-ae51-e2cd08dab039",
   "metadata": {
    "jp-MarkdownHeadingCollapsed": true
   },
   "source": [
    "## ndarray\n",
    "- N-dimensionanl array object, or ndarray, enables efficient computations in batch."
   ]
  },
  {
   "cell_type": "code",
   "execution_count": 128,
   "id": "aa7157fb-18ce-4540-a09c-e01641d4f43b",
   "metadata": {},
   "outputs": [
    {
     "data": {
      "text/plain": [
       "array([[ 1.14894236, -0.69015639,  0.27988269],\n",
       "       [ 1.05251635, -0.69653037,  0.39405466]])"
      ]
     },
     "execution_count": 128,
     "metadata": {},
     "output_type": "execute_result"
    }
   ],
   "source": [
    "# Generate some random data\n",
    "data = np.random.randn(2, 3)\n",
    "data"
   ]
  },
  {
   "cell_type": "code",
   "execution_count": 129,
   "id": "b17173a7-f1f1-4028-87e9-a9528033ab4a",
   "metadata": {},
   "outputs": [
    {
     "data": {
      "text/plain": [
       "array([[11.48942364, -6.90156385,  2.79882695],\n",
       "       [10.52516351, -6.96530369,  3.94054659]])"
      ]
     },
     "execution_count": 129,
     "metadata": {},
     "output_type": "execute_result"
    }
   ],
   "source": [
    "data * 10"
   ]
  },
  {
   "cell_type": "code",
   "execution_count": 130,
   "id": "9b54f7e4-6905-4c8d-933d-bdf51fdd69e2",
   "metadata": {},
   "outputs": [
    {
     "data": {
      "text/plain": [
       "array([[ 2.29788473, -1.38031277,  0.55976539],\n",
       "       [ 2.1050327 , -1.39306074,  0.78810932]])"
      ]
     },
     "execution_count": 130,
     "metadata": {},
     "output_type": "execute_result"
    }
   ],
   "source": [
    "data + data"
   ]
  },
  {
   "cell_type": "code",
   "execution_count": 131,
   "id": "d2899161-ae39-4b9c-89ac-232916384ac9",
   "metadata": {},
   "outputs": [
    {
     "data": {
      "text/plain": [
       "(2, 3)"
      ]
     },
     "execution_count": 131,
     "metadata": {},
     "output_type": "execute_result"
    }
   ],
   "source": [
    "data.shape"
   ]
  },
  {
   "cell_type": "code",
   "execution_count": 132,
   "id": "340d0d35-08da-4c8d-861c-499680efe700",
   "metadata": {},
   "outputs": [
    {
     "data": {
      "text/plain": [
       "dtype('float64')"
      ]
     },
     "execution_count": 132,
     "metadata": {},
     "output_type": "execute_result"
    }
   ],
   "source": [
    "data.dtype"
   ]
  },
  {
   "cell_type": "code",
   "execution_count": 133,
   "id": "0523c7b6-6ee6-4803-8eaf-ec29599c5fd2",
   "metadata": {},
   "outputs": [
    {
     "data": {
      "text/plain": [
       "6"
      ]
     },
     "execution_count": 133,
     "metadata": {},
     "output_type": "execute_result"
    }
   ],
   "source": [
    "data.size"
   ]
  },
  {
   "cell_type": "code",
   "execution_count": 134,
   "id": "09169779-1bad-45a0-8808-f90e4e9a87ac",
   "metadata": {},
   "outputs": [
    {
     "data": {
      "text/plain": [
       "2"
      ]
     },
     "execution_count": 134,
     "metadata": {},
     "output_type": "execute_result"
    }
   ],
   "source": [
    "data.ndim # Number of array dimensions."
   ]
  },
  {
   "cell_type": "markdown",
   "id": "38063859-3545-44fd-98c5-44ca5532e47c",
   "metadata": {
    "jp-MarkdownHeadingCollapsed": true
   },
   "source": [
    "## Creating ndarrays"
   ]
  },
  {
   "cell_type": "markdown",
   "id": "f10bba44-8a8b-4018-b380-1283ed4089cf",
   "metadata": {},
   "source": [
    "- A. From list of values"
   ]
  },
  {
   "cell_type": "code",
   "execution_count": 135,
   "id": "9d86fe0b-6cca-4d4b-b957-2286f077cfe2",
   "metadata": {},
   "outputs": [
    {
     "data": {
      "text/plain": [
       "array([6. , 7.5, 8. , 0. , 1. ])"
      ]
     },
     "execution_count": 135,
     "metadata": {},
     "output_type": "execute_result"
    }
   ],
   "source": [
    "data1 = [6, 7.5, 8, 0, 1]\n",
    "arr1 = np.array(data1)\n",
    "arr1"
   ]
  },
  {
   "cell_type": "code",
   "execution_count": 136,
   "id": "cbcb807e-1526-4c95-bc50-6066226008fc",
   "metadata": {},
   "outputs": [
    {
     "data": {
      "text/plain": [
       "array([[1, 2, 3, 4],\n",
       "       [5, 6, 7, 8]])"
      ]
     },
     "execution_count": 136,
     "metadata": {},
     "output_type": "execute_result"
    }
   ],
   "source": [
    "data2 = [[1, 2, 3, 4], [5, 6, 7, 8]]\n",
    "arr2 = np.array(data2)\n",
    "arr2"
   ]
  },
  {
   "cell_type": "markdown",
   "id": "e2b26066-cb9d-4f37-affb-fc44828fcb8c",
   "metadata": {
    "jp-MarkdownHeadingCollapsed": true
   },
   "source": [
    "- B. Fill with predefined values (ones, zeros, empty)"
   ]
  },
  {
   "cell_type": "code",
   "execution_count": 137,
   "id": "0c4992a9-2477-4bf9-98ed-b5b5fd185a9a",
   "metadata": {},
   "outputs": [
    {
     "data": {
      "text/plain": [
       "array([0., 0., 0., 0., 0., 0., 0., 0., 0., 0.])"
      ]
     },
     "execution_count": 137,
     "metadata": {},
     "output_type": "execute_result"
    }
   ],
   "source": [
    "np.zeros(10)"
   ]
  },
  {
   "cell_type": "code",
   "execution_count": 138,
   "id": "b1367df0-62ff-4a03-9548-aa656b8846af",
   "metadata": {},
   "outputs": [
    {
     "data": {
      "text/plain": [
       "array([[0., 0., 0., 0., 0., 0.],\n",
       "       [0., 0., 0., 0., 0., 0.],\n",
       "       [0., 0., 0., 0., 0., 0.]])"
      ]
     },
     "execution_count": 138,
     "metadata": {},
     "output_type": "execute_result"
    }
   ],
   "source": [
    "np.zeros((3, 6))"
   ]
  },
  {
   "cell_type": "markdown",
   "id": "e5447c72-0778-4f51-b3eb-3e82848fd005",
   "metadata": {},
   "source": [
    "- C. arange(): the ndarray counter part of range"
   ]
  },
  {
   "cell_type": "code",
   "execution_count": 139,
   "id": "9f148ef4-51b6-4627-8f2b-64b4a7c4c829",
   "metadata": {},
   "outputs": [
    {
     "data": {
      "text/plain": [
       "array([ 0,  1,  2,  3,  4,  5,  6,  7,  8,  9, 10, 11, 12, 13, 14])"
      ]
     },
     "execution_count": 139,
     "metadata": {},
     "output_type": "execute_result"
    }
   ],
   "source": [
    "np.arange(15)"
   ]
  },
  {
   "cell_type": "markdown",
   "id": "a2db8c1d-3dc7-48a5-a084-9ea56ddb0390",
   "metadata": {
    "jp-MarkdownHeadingCollapsed": true
   },
   "source": [
    "## Modifying a ndarray\n",
    "- change the shape or size of an ndarray"
   ]
  },
  {
   "cell_type": "code",
   "execution_count": 140,
   "id": "7fabb14f-f49a-4fd7-9827-70a63d24f72b",
   "metadata": {},
   "outputs": [
    {
     "data": {
      "text/plain": [
       "array([[1, 2],\n",
       "       [3, 4],\n",
       "       [5, 6],\n",
       "       [7, 8]])"
      ]
     },
     "execution_count": 140,
     "metadata": {},
     "output_type": "execute_result"
    }
   ],
   "source": [
    "np.reshape(arr2, (4, 2)) # return a view of the original array, doesn't copy data"
   ]
  },
  {
   "cell_type": "code",
   "execution_count": 141,
   "id": "59cd28c4-2ef4-46a4-9c5c-6b96c6d27154",
   "metadata": {},
   "outputs": [
    {
     "ename": "ValueError",
     "evalue": "cannot reshape array of size 8 into shape (3,2)",
     "output_type": "error",
     "traceback": [
      "\u001b[0;31m---------------------------------------------------------------------------\u001b[0m",
      "\u001b[0;31mValueError\u001b[0m                                Traceback (most recent call last)",
      "Cell \u001b[0;32mIn[141], line 1\u001b[0m\n\u001b[0;32m----> 1\u001b[0m \u001b[43mnp\u001b[49m\u001b[38;5;241;43m.\u001b[39;49m\u001b[43mreshape\u001b[49m\u001b[43m(\u001b[49m\u001b[43marr2\u001b[49m\u001b[43m,\u001b[49m\u001b[43m \u001b[49m\u001b[43m(\u001b[49m\u001b[38;5;241;43m3\u001b[39;49m\u001b[43m,\u001b[49m\u001b[43m \u001b[49m\u001b[38;5;241;43m2\u001b[39;49m\u001b[43m)\u001b[49m\u001b[43m)\u001b[49m \u001b[38;5;66;03m# incompatible size\u001b[39;00m\n",
      "File \u001b[0;32m<__array_function__ internals>:200\u001b[0m, in \u001b[0;36mreshape\u001b[0;34m(*args, **kwargs)\u001b[0m\n",
      "File \u001b[0;32m/Library/Frameworks/Python.framework/Versions/3.8/lib/python3.8/site-packages/numpy/core/fromnumeric.py:298\u001b[0m, in \u001b[0;36mreshape\u001b[0;34m(a, newshape, order)\u001b[0m\n\u001b[1;32m    198\u001b[0m \u001b[38;5;129m@array_function_dispatch\u001b[39m(_reshape_dispatcher)\n\u001b[1;32m    199\u001b[0m \u001b[38;5;28;01mdef\u001b[39;00m \u001b[38;5;21mreshape\u001b[39m(a, newshape, order\u001b[38;5;241m=\u001b[39m\u001b[38;5;124m'\u001b[39m\u001b[38;5;124mC\u001b[39m\u001b[38;5;124m'\u001b[39m):\n\u001b[1;32m    200\u001b[0m \u001b[38;5;250m    \u001b[39m\u001b[38;5;124;03m\"\"\"\u001b[39;00m\n\u001b[1;32m    201\u001b[0m \u001b[38;5;124;03m    Gives a new shape to an array without changing its data.\u001b[39;00m\n\u001b[1;32m    202\u001b[0m \n\u001b[0;32m   (...)\u001b[0m\n\u001b[1;32m    296\u001b[0m \u001b[38;5;124;03m           [5, 6]])\u001b[39;00m\n\u001b[1;32m    297\u001b[0m \u001b[38;5;124;03m    \"\"\"\u001b[39;00m\n\u001b[0;32m--> 298\u001b[0m     \u001b[38;5;28;01mreturn\u001b[39;00m \u001b[43m_wrapfunc\u001b[49m\u001b[43m(\u001b[49m\u001b[43ma\u001b[49m\u001b[43m,\u001b[49m\u001b[43m \u001b[49m\u001b[38;5;124;43m'\u001b[39;49m\u001b[38;5;124;43mreshape\u001b[39;49m\u001b[38;5;124;43m'\u001b[39;49m\u001b[43m,\u001b[49m\u001b[43m \u001b[49m\u001b[43mnewshape\u001b[49m\u001b[43m,\u001b[49m\u001b[43m \u001b[49m\u001b[43morder\u001b[49m\u001b[38;5;241;43m=\u001b[39;49m\u001b[43morder\u001b[49m\u001b[43m)\u001b[49m\n",
      "File \u001b[0;32m/Library/Frameworks/Python.framework/Versions/3.8/lib/python3.8/site-packages/numpy/core/fromnumeric.py:57\u001b[0m, in \u001b[0;36m_wrapfunc\u001b[0;34m(obj, method, *args, **kwds)\u001b[0m\n\u001b[1;32m     54\u001b[0m     \u001b[38;5;28;01mreturn\u001b[39;00m _wrapit(obj, method, \u001b[38;5;241m*\u001b[39margs, \u001b[38;5;241m*\u001b[39m\u001b[38;5;241m*\u001b[39mkwds)\n\u001b[1;32m     56\u001b[0m \u001b[38;5;28;01mtry\u001b[39;00m:\n\u001b[0;32m---> 57\u001b[0m     \u001b[38;5;28;01mreturn\u001b[39;00m \u001b[43mbound\u001b[49m\u001b[43m(\u001b[49m\u001b[38;5;241;43m*\u001b[39;49m\u001b[43margs\u001b[49m\u001b[43m,\u001b[49m\u001b[43m \u001b[49m\u001b[38;5;241;43m*\u001b[39;49m\u001b[38;5;241;43m*\u001b[39;49m\u001b[43mkwds\u001b[49m\u001b[43m)\u001b[49m\n\u001b[1;32m     58\u001b[0m \u001b[38;5;28;01mexcept\u001b[39;00m \u001b[38;5;167;01mTypeError\u001b[39;00m:\n\u001b[1;32m     59\u001b[0m     \u001b[38;5;66;03m# A TypeError occurs if the object does have such a method in its\u001b[39;00m\n\u001b[1;32m     60\u001b[0m     \u001b[38;5;66;03m# class, but its signature is not identical to that of NumPy's. This\u001b[39;00m\n\u001b[0;32m   (...)\u001b[0m\n\u001b[1;32m     64\u001b[0m     \u001b[38;5;66;03m# Call _wrapit from within the except clause to ensure a potential\u001b[39;00m\n\u001b[1;32m     65\u001b[0m     \u001b[38;5;66;03m# exception has a traceback chain.\u001b[39;00m\n\u001b[1;32m     66\u001b[0m     \u001b[38;5;28;01mreturn\u001b[39;00m _wrapit(obj, method, \u001b[38;5;241m*\u001b[39margs, \u001b[38;5;241m*\u001b[39m\u001b[38;5;241m*\u001b[39mkwds)\n",
      "\u001b[0;31mValueError\u001b[0m: cannot reshape array of size 8 into shape (3,2)"
     ]
    }
   ],
   "source": [
    "np.reshape(arr2, (3, 2)) # incompatible size"
   ]
  },
  {
   "cell_type": "code",
   "execution_count": 142,
   "id": "aaa8ff0a-13f3-45a2-8222-fe0486b7bed4",
   "metadata": {},
   "outputs": [
    {
     "data": {
      "text/plain": [
       "array([[1, 2],\n",
       "       [3, 4]])"
      ]
     },
     "execution_count": 142,
     "metadata": {},
     "output_type": "execute_result"
    }
   ],
   "source": [
    "# resize doesn't make an error even though the size is different and it makes a new copy\n",
    "# make a new copy of data\n",
    "np.resize(arr2, (2, 2))"
   ]
  },
  {
   "cell_type": "markdown",
   "id": "019da434-11d6-41c3-b8fc-94c08e9de2fd",
   "metadata": {
    "jp-MarkdownHeadingCollapsed": true
   },
   "source": [
    "## Data type of ndarray\n",
    "- specify the data type"
   ]
  },
  {
   "cell_type": "code",
   "execution_count": 143,
   "id": "6ea9668e-e945-4d1c-8b0f-118ee4d60c4b",
   "metadata": {},
   "outputs": [],
   "source": [
    "arr1 = np.array([1, 2, 3], dtype=np.float64)\n",
    "arr2 = np.array([1, 2, 3], dtype=np.int32)"
   ]
  },
  {
   "cell_type": "code",
   "execution_count": 144,
   "id": "1f3b83cc-0aa7-4c82-bc4f-db5f8e78272a",
   "metadata": {},
   "outputs": [
    {
     "data": {
      "text/plain": [
       "dtype('float64')"
      ]
     },
     "execution_count": 144,
     "metadata": {},
     "output_type": "execute_result"
    }
   ],
   "source": [
    "arr1.dtype"
   ]
  },
  {
   "cell_type": "code",
   "execution_count": 145,
   "id": "3ef30c68-d68c-4549-b3dc-2bea389a6c85",
   "metadata": {},
   "outputs": [
    {
     "data": {
      "text/plain": [
       "dtype('int32')"
      ]
     },
     "execution_count": 145,
     "metadata": {},
     "output_type": "execute_result"
    }
   ],
   "source": [
    "arr2.dtype"
   ]
  },
  {
   "cell_type": "markdown",
   "id": "f82e9bf0-883f-42c1-ae6f-02733ec4cec5",
   "metadata": {},
   "source": [
    "- Or cast the data type from one to another using astype() method"
   ]
  },
  {
   "cell_type": "code",
   "execution_count": 146,
   "id": "d453d1af-e480-486e-84af-a9b4a4412097",
   "metadata": {},
   "outputs": [
    {
     "data": {
      "text/plain": [
       "dtype('int64')"
      ]
     },
     "execution_count": 146,
     "metadata": {},
     "output_type": "execute_result"
    }
   ],
   "source": [
    "arr = np.array([1, 2, 3, 4, 5])\n",
    "arr.dtype"
   ]
  },
  {
   "cell_type": "code",
   "execution_count": 147,
   "id": "671e0c29-693a-42e4-85e7-25f3e3a749e6",
   "metadata": {},
   "outputs": [
    {
     "data": {
      "text/plain": [
       "dtype('float64')"
      ]
     },
     "execution_count": 147,
     "metadata": {},
     "output_type": "execute_result"
    }
   ],
   "source": [
    "float_arr = arr.astype(np.float64)\n",
    "float_arr.dtype"
   ]
  },
  {
   "cell_type": "code",
   "execution_count": 148,
   "id": "4ddd925f-91d9-4bf1-bea5-2058894f9c83",
   "metadata": {},
   "outputs": [
    {
     "data": {
      "text/plain": [
       "array([ 1.25, -9.6 , 42.  ])"
      ]
     },
     "execution_count": 148,
     "metadata": {},
     "output_type": "execute_result"
    }
   ],
   "source": [
    "numeric_strings = np.array(['1.25', '-9.6', '42'], dtype=np.string_)\n",
    "numeric_strings.astype(float)"
   ]
  },
  {
   "cell_type": "markdown",
   "id": "e896147d-085e-49cb-8f9d-0b83df0585f2",
   "metadata": {
    "jp-MarkdownHeadingCollapsed": true
   },
   "source": [
    "## Arithmetic with ndarrays\n",
    "- Any arithmetic operations between **equal-size** arrays applies the operation **element-wise**"
   ]
  },
  {
   "cell_type": "code",
   "execution_count": 149,
   "id": "dcbfdf65-c456-4c01-a7ab-b975cc4f5517",
   "metadata": {},
   "outputs": [
    {
     "data": {
      "text/plain": [
       "array([[1., 2., 3.],\n",
       "       [4., 5., 6.]])"
      ]
     },
     "execution_count": 149,
     "metadata": {},
     "output_type": "execute_result"
    }
   ],
   "source": [
    "arr = np.array([[1., 2., 3.], [4., 5., 6.]])\n",
    "arr"
   ]
  },
  {
   "cell_type": "code",
   "execution_count": 150,
   "id": "7fa7ad52-1649-4873-ac81-8bd56e4f4de6",
   "metadata": {},
   "outputs": [
    {
     "data": {
      "text/plain": [
       "array([[ 1.,  4.,  9.],\n",
       "       [16., 25., 36.]])"
      ]
     },
     "execution_count": 150,
     "metadata": {},
     "output_type": "execute_result"
    }
   ],
   "source": [
    "arr * arr"
   ]
  },
  {
   "cell_type": "code",
   "execution_count": 151,
   "id": "3cb792b4-a3e1-4547-a4f4-916c8be53ed2",
   "metadata": {},
   "outputs": [
    {
     "data": {
      "text/plain": [
       "array([[0., 0., 0.],\n",
       "       [0., 0., 0.]])"
      ]
     },
     "execution_count": 151,
     "metadata": {},
     "output_type": "execute_result"
    }
   ],
   "source": [
    "arr - arr"
   ]
  },
  {
   "cell_type": "markdown",
   "id": "b57d8c8b-623a-469c-8b5d-3ae427dbcbfc",
   "metadata": {
    "jp-MarkdownHeadingCollapsed": true
   },
   "source": [
    "## ndarray comparison\n",
    "- Comparisons between arrays of the same size yield **boolean arrays**"
   ]
  },
  {
   "cell_type": "code",
   "execution_count": 152,
   "id": "4dfb4049-4111-4042-807e-3c2973140476",
   "metadata": {},
   "outputs": [
    {
     "data": {
      "text/plain": [
       "array([[ 0.,  4.,  1.],\n",
       "       [ 7.,  2., 12.]])"
      ]
     },
     "execution_count": 152,
     "metadata": {},
     "output_type": "execute_result"
    }
   ],
   "source": [
    "arr2 = np.array([[0., 4., 1.], [7., 2., 12.]])\n",
    "arr2"
   ]
  },
  {
   "cell_type": "code",
   "execution_count": 153,
   "id": "5b53ea69-6622-49e5-8dbb-cfa865a4043a",
   "metadata": {},
   "outputs": [
    {
     "data": {
      "text/plain": [
       "array([[False,  True, False],\n",
       "       [ True, False,  True]])"
      ]
     },
     "execution_count": 153,
     "metadata": {},
     "output_type": "execute_result"
    }
   ],
   "source": [
    "arr2 > arr"
   ]
  },
  {
   "cell_type": "markdown",
   "id": "fd7cd495-94e3-4478-8ec9-ec3edf7eec37",
   "metadata": {
    "jp-MarkdownHeadingCollapsed": true
   },
   "source": [
    "## Indexing and Slicing like lists\n",
    "- ndarrays"
   ]
  },
  {
   "cell_type": "code",
   "execution_count": 154,
   "id": "6682b4cc-8de1-4bb5-9a24-344d458d3599",
   "metadata": {},
   "outputs": [
    {
     "data": {
      "text/plain": [
       "array([0, 1, 2, 3, 4, 5, 6, 7, 8, 9])"
      ]
     },
     "execution_count": 154,
     "metadata": {},
     "output_type": "execute_result"
    }
   ],
   "source": [
    "arr = np.arange(10)\n",
    "arr"
   ]
  },
  {
   "cell_type": "code",
   "execution_count": 155,
   "id": "d5ce3965-64b7-47f2-89f5-7dfe37e80555",
   "metadata": {},
   "outputs": [
    {
     "data": {
      "text/plain": [
       "5"
      ]
     },
     "execution_count": 155,
     "metadata": {},
     "output_type": "execute_result"
    }
   ],
   "source": [
    "arr[5]"
   ]
  },
  {
   "cell_type": "code",
   "execution_count": 156,
   "id": "b174384a-139c-4565-a863-c08988f5b219",
   "metadata": {},
   "outputs": [
    {
     "data": {
      "text/plain": [
       "array([5, 6, 7])"
      ]
     },
     "execution_count": 156,
     "metadata": {},
     "output_type": "execute_result"
    }
   ],
   "source": [
    "arr[5:8]"
   ]
  },
  {
   "cell_type": "markdown",
   "id": "340f60ef-29c4-4b8b-a459-237ad7e2e9ca",
   "metadata": {},
   "source": [
    "- lists"
   ]
  },
  {
   "cell_type": "code",
   "execution_count": 157,
   "id": "aa98d715-302d-4948-b476-c0a41c576172",
   "metadata": {},
   "outputs": [
    {
     "data": {
      "text/plain": [
       "[0, 1, 2, 3, 4, 5, 6, 7, 8, 9]"
      ]
     },
     "execution_count": 157,
     "metadata": {},
     "output_type": "execute_result"
    }
   ],
   "source": [
    "mylist = list(range(10))\n",
    "mylist"
   ]
  },
  {
   "cell_type": "code",
   "execution_count": 158,
   "id": "0907a739-f34a-4939-aeac-6183c3b6ad4a",
   "metadata": {},
   "outputs": [
    {
     "data": {
      "text/plain": [
       "5"
      ]
     },
     "execution_count": 158,
     "metadata": {},
     "output_type": "execute_result"
    }
   ],
   "source": [
    "mylist[5]"
   ]
  },
  {
   "cell_type": "code",
   "execution_count": 159,
   "id": "99fe81da-3e16-4f9e-9fea-172c766587b2",
   "metadata": {},
   "outputs": [
    {
     "data": {
      "text/plain": [
       "[5, 6, 7]"
      ]
     },
     "execution_count": 159,
     "metadata": {},
     "output_type": "execute_result"
    }
   ],
   "source": [
    "mylist[5:8]"
   ]
  },
  {
   "cell_type": "markdown",
   "id": "9bf6c0f9-f574-48da-98d1-b369cda4d686",
   "metadata": {
    "jp-MarkdownHeadingCollapsed": true
   },
   "source": [
    "## Except..\n",
    "- A slice of a list is a copy"
   ]
  },
  {
   "cell_type": "code",
   "execution_count": 160,
   "id": "4380d51d-8ba5-4223-b4e8-6ae49aab859a",
   "metadata": {},
   "outputs": [
    {
     "data": {
      "text/plain": [
       "[0, 1, 2, 3, 4, 5, 6, 7, 8, 9]"
      ]
     },
     "execution_count": 160,
     "metadata": {},
     "output_type": "execute_result"
    }
   ],
   "source": [
    "mylist = list(range(10))\n",
    "mylist"
   ]
  },
  {
   "cell_type": "code",
   "execution_count": 161,
   "id": "3a1623bd-d855-4348-bbdf-b64edd15eb6c",
   "metadata": {},
   "outputs": [
    {
     "data": {
      "text/plain": [
       "[5, 6, 7]"
      ]
     },
     "execution_count": 161,
     "metadata": {},
     "output_type": "execute_result"
    }
   ],
   "source": [
    "list_slice = mylist[5:8]\n",
    "list_slice"
   ]
  },
  {
   "cell_type": "code",
   "execution_count": 162,
   "id": "c3dbc7c9-2d0e-422f-b321-06a4efe6fcb7",
   "metadata": {},
   "outputs": [
    {
     "data": {
      "text/plain": [
       "[5, 12, 7]"
      ]
     },
     "execution_count": 162,
     "metadata": {},
     "output_type": "execute_result"
    }
   ],
   "source": [
    "list_slice[1] = 12\n",
    "list_slice"
   ]
  },
  {
   "cell_type": "code",
   "execution_count": 163,
   "id": "14545df3-b9e7-4b4c-82a0-1aa3f6d870ec",
   "metadata": {},
   "outputs": [
    {
     "data": {
      "text/plain": [
       "[0, 1, 2, 3, 4, 5, 6, 7, 8, 9]"
      ]
     },
     "execution_count": 163,
     "metadata": {},
     "output_type": "execute_result"
    }
   ],
   "source": [
    "mylist"
   ]
  },
  {
   "cell_type": "code",
   "execution_count": 164,
   "id": "6cde2359-6fea-4f8e-b71a-b7139bde8c30",
   "metadata": {},
   "outputs": [
    {
     "ename": "TypeError",
     "evalue": "can only assign an iterable",
     "output_type": "error",
     "traceback": [
      "\u001b[0;31m---------------------------------------------------------------------------\u001b[0m",
      "\u001b[0;31mTypeError\u001b[0m                                 Traceback (most recent call last)",
      "Cell \u001b[0;32mIn[164], line 1\u001b[0m\n\u001b[0;32m----> 1\u001b[0m \u001b[43mlist_slice\u001b[49m\u001b[43m[\u001b[49m\u001b[43m:\u001b[49m\u001b[43m]\u001b[49m \u001b[38;5;241m=\u001b[39m \u001b[38;5;241m64\u001b[39m\n",
      "\u001b[0;31mTypeError\u001b[0m: can only assign an iterable"
     ]
    }
   ],
   "source": [
    "list_slice[:] = 64"
   ]
  },
  {
   "cell_type": "code",
   "execution_count": 165,
   "id": "c9553fd5-5045-4cd0-86ef-a0cefcf5c3d1",
   "metadata": {},
   "outputs": [
    {
     "data": {
      "text/plain": [
       "[64]"
      ]
     },
     "execution_count": 165,
     "metadata": {},
     "output_type": "execute_result"
    }
   ],
   "source": [
    "list_slice[:] = [64]\n",
    "list_slice"
   ]
  },
  {
   "cell_type": "markdown",
   "id": "d20d633d-6fd0-4f54-a137-083943f4fc56",
   "metadata": {},
   "source": [
    "- A slice of an ndarray is a view"
   ]
  },
  {
   "cell_type": "code",
   "execution_count": 166,
   "id": "cf16887e-22af-4640-b558-9ec0bce4eba7",
   "metadata": {},
   "outputs": [
    {
     "data": {
      "text/plain": [
       "array([0, 1, 2, 3, 4, 5, 6, 7, 8, 9])"
      ]
     },
     "execution_count": 166,
     "metadata": {},
     "output_type": "execute_result"
    }
   ],
   "source": [
    "arr = np.arange(10)\n",
    "arr"
   ]
  },
  {
   "cell_type": "code",
   "execution_count": 167,
   "id": "57d54525-bf51-4f9f-b0c1-255bdeb52c22",
   "metadata": {},
   "outputs": [
    {
     "data": {
      "text/plain": [
       "array([5, 6, 7])"
      ]
     },
     "execution_count": 167,
     "metadata": {},
     "output_type": "execute_result"
    }
   ],
   "source": [
    "arr_slice = arr[5:8]\n",
    "arr_slice"
   ]
  },
  {
   "cell_type": "code",
   "execution_count": 168,
   "id": "d689164c-3883-4c8d-9249-40575c1a9737",
   "metadata": {},
   "outputs": [
    {
     "data": {
      "text/plain": [
       "array([ 5, 12,  7])"
      ]
     },
     "execution_count": 168,
     "metadata": {},
     "output_type": "execute_result"
    }
   ],
   "source": [
    "arr_slice[1] = 12\n",
    "arr_slice"
   ]
  },
  {
   "cell_type": "code",
   "execution_count": 169,
   "id": "911ca309-bfa6-4a2a-a460-b3e934dc1469",
   "metadata": {},
   "outputs": [
    {
     "data": {
      "text/plain": [
       "array([ 0,  1,  2,  3,  4,  5, 12,  7,  8,  9])"
      ]
     },
     "execution_count": 169,
     "metadata": {},
     "output_type": "execute_result"
    }
   ],
   "source": [
    "arr"
   ]
  },
  {
   "cell_type": "code",
   "execution_count": 170,
   "id": "121c745f-eadd-46e8-b10e-27a70cdff55c",
   "metadata": {},
   "outputs": [
    {
     "data": {
      "text/plain": [
       "array([64, 64, 64])"
      ]
     },
     "execution_count": 170,
     "metadata": {},
     "output_type": "execute_result"
    }
   ],
   "source": [
    "arr_slice[:] = 64 # assigning to a slice expression \n",
    "arr_slice"
   ]
  },
  {
   "cell_type": "code",
   "execution_count": 171,
   "id": "ec49f324-eae2-48f6-ab2d-1697761d74d2",
   "metadata": {},
   "outputs": [
    {
     "data": {
      "text/plain": [
       "array([ 0,  1,  2,  3,  4, 64, 64, 64,  8,  9])"
      ]
     },
     "execution_count": 171,
     "metadata": {},
     "output_type": "execute_result"
    }
   ],
   "source": [
    "arr"
   ]
  },
  {
   "cell_type": "markdown",
   "id": "9b2dc269-5d1c-4c72-a15d-3ac82bd9b772",
   "metadata": {},
   "source": [
    "### Why the difference?\n",
    "- ndarrays don't like to copy!\n",
    "- Efficient with handling large datasets\n",
    "- A slice of a ndarray is a view. This means that the data is not copied, and any modifications to the view will be reflected in the source array\n",
    "- How to make a copy of a slice of a ndarray instead of view:\n",
    "  ```\n",
    "  arr[5:8].copy()\n",
    "  ```"
   ]
  },
  {
   "cell_type": "markdown",
   "id": "ca9a9386-cc8b-4506-8fcb-4affef37ff70",
   "metadata": {
    "jp-MarkdownHeadingCollapsed": true
   },
   "source": [
    "## Indexing and Slicing High dimensional ndarrays"
   ]
  },
  {
   "cell_type": "markdown",
   "id": "79c65504-759d-4ffd-8120-1c6403116b03",
   "metadata": {},
   "source": [
    "### Boolean Indexing"
   ]
  },
  {
   "cell_type": "code",
   "execution_count": 172,
   "id": "20de16bd-8139-4af7-8f74-0be15849317f",
   "metadata": {},
   "outputs": [
    {
     "data": {
      "text/plain": [
       "array(['Bob', 'Joe', 'Will', 'Bob', 'Will', 'Joe', 'Joe'], dtype='<U4')"
      ]
     },
     "execution_count": 172,
     "metadata": {},
     "output_type": "execute_result"
    }
   ],
   "source": [
    "names = np.array(['Bob', 'Joe', 'Will', 'Bob', 'Will', 'Joe', 'Joe'])\n",
    "names"
   ]
  },
  {
   "cell_type": "code",
   "execution_count": 173,
   "id": "ee1c2b05-e04d-4eee-9578-559b0e1f6b56",
   "metadata": {},
   "outputs": [
    {
     "data": {
      "text/plain": [
       "array([ True, False, False,  True, False, False, False])"
      ]
     },
     "execution_count": 173,
     "metadata": {},
     "output_type": "execute_result"
    }
   ],
   "source": [
    "names == 'Bob' # operations, including comparison, on ndarrays are elemnet-wise"
   ]
  },
  {
   "cell_type": "markdown",
   "id": "ed699de8-ae9f-44bc-a0f5-c7e312fdc49b",
   "metadata": {},
   "source": [
    "- We can use an ndarray of Booleans to as index to select"
   ]
  },
  {
   "cell_type": "code",
   "execution_count": 174,
   "id": "3759f8a6-b2bc-4072-8e08-1022d82439a4",
   "metadata": {},
   "outputs": [
    {
     "data": {
      "text/plain": [
       "array([-0.35255939, -0.81109347,  1.04322993, -1.50245966,  1.04162339,\n",
       "        0.54717172,  1.04806073])"
      ]
     },
     "execution_count": 174,
     "metadata": {},
     "output_type": "execute_result"
    }
   ],
   "source": [
    "data_1d = np.random.randn(7)\n",
    "data_1d"
   ]
  },
  {
   "cell_type": "code",
   "execution_count": 175,
   "id": "95ea26bb-d54f-4434-a6ec-ad99c2433725",
   "metadata": {},
   "outputs": [
    {
     "data": {
      "text/plain": [
       "array([-0.35255939, -1.50245966])"
      ]
     },
     "execution_count": 175,
     "metadata": {},
     "output_type": "execute_result"
    }
   ],
   "source": [
    "data_1d[names=='Bob'] # The boolean array must be of the same length as the array axis it's indexing"
   ]
  },
  {
   "cell_type": "markdown",
   "id": "cf606c23-f721-4b95-80de-6d68dd567187",
   "metadata": {},
   "source": [
    "- Different than slicing, assigning a new variable by selecting data from an array using boolean indexing creates a copy of the data"
   ]
  },
  {
   "cell_type": "code",
   "execution_count": 176,
   "id": "c0d2e736-1903-4302-aba9-5cddb0804157",
   "metadata": {},
   "outputs": [
    {
     "data": {
      "text/plain": [
       "array([-0.35255939, -1.50245966])"
      ]
     },
     "execution_count": 176,
     "metadata": {},
     "output_type": "execute_result"
    }
   ],
   "source": [
    "boolean_1d = data_1d[names=='Bob'] # create a new object\n",
    "boolean_1d"
   ]
  },
  {
   "cell_type": "code",
   "execution_count": 177,
   "id": "99b4d03d-f523-4d53-9659-16bc39af333c",
   "metadata": {},
   "outputs": [
    {
     "data": {
      "text/plain": [
       "array([0., 0.])"
      ]
     },
     "execution_count": 177,
     "metadata": {},
     "output_type": "execute_result"
    }
   ],
   "source": [
    "boolean_1d[:] = 0\n",
    "boolean_1d # new object changed"
   ]
  },
  {
   "cell_type": "code",
   "execution_count": 178,
   "id": "1c84fb80-105c-483a-a974-4f94a93ca491",
   "metadata": {},
   "outputs": [
    {
     "data": {
      "text/plain": [
       "array([-0.35255939, -0.81109347,  1.04322993, -1.50245966,  1.04162339,\n",
       "        0.54717172,  1.04806073])"
      ]
     },
     "execution_count": 178,
     "metadata": {},
     "output_type": "execute_result"
    }
   ],
   "source": [
    "data_1d # original object unchanged"
   ]
  },
  {
   "cell_type": "markdown",
   "id": "32d2140f-89ac-479b-9d16-0cd1084ec056",
   "metadata": {},
   "source": [
    "- combine multiple boolean conditions, using boolean arithmetic operators like & and |, but not the keywords **and** and **or**"
   ]
  },
  {
   "cell_type": "code",
   "execution_count": 179,
   "id": "2690e064-5704-4c4d-9179-8b462d181ff5",
   "metadata": {},
   "outputs": [
    {
     "data": {
      "text/plain": [
       "array([ True, False,  True,  True,  True, False, False])"
      ]
     },
     "execution_count": 179,
     "metadata": {},
     "output_type": "execute_result"
    }
   ],
   "source": [
    "conds = (names=='Bob') | (names=='Will') # error if replacing | by or\n",
    "conds"
   ]
  },
  {
   "cell_type": "code",
   "execution_count": 180,
   "id": "72ed2a2f-50bd-4722-a0af-35f54addc33c",
   "metadata": {},
   "outputs": [
    {
     "data": {
      "text/plain": [
       "array([-0.35255939,  1.04322993, -1.50245966,  1.04162339])"
      ]
     },
     "execution_count": 180,
     "metadata": {},
     "output_type": "execute_result"
    }
   ],
   "source": [
    "data_1d[conds]"
   ]
  },
  {
   "cell_type": "markdown",
   "id": "608e85ac-06d6-4277-a986-9c1d4ed91f72",
   "metadata": {},
   "source": [
    "- ~ negates a condition (but not the keyword not)"
   ]
  },
  {
   "cell_type": "code",
   "execution_count": 181,
   "id": "dcad9892-619b-4de7-85b1-ee87295210f7",
   "metadata": {},
   "outputs": [
    {
     "data": {
      "text/plain": [
       "array([False,  True, False, False, False,  True,  True])"
      ]
     },
     "execution_count": 181,
     "metadata": {},
     "output_type": "execute_result"
    }
   ],
   "source": [
    "~conds"
   ]
  },
  {
   "cell_type": "code",
   "execution_count": 182,
   "id": "0a91e001-cdf3-4b76-b3ad-73eafc0f09e8",
   "metadata": {},
   "outputs": [
    {
     "data": {
      "text/plain": [
       "array([-0.81109347,  0.54717172,  1.04806073])"
      ]
     },
     "execution_count": 182,
     "metadata": {},
     "output_type": "execute_result"
    }
   ],
   "source": [
    "data_1d[~conds]"
   ]
  },
  {
   "cell_type": "markdown",
   "id": "631c7e8c-7094-4c0b-8d99-770200f8ac83",
   "metadata": {},
   "source": [
    "- You just need to know which axis you are indexing"
   ]
  },
  {
   "cell_type": "code",
   "execution_count": 183,
   "id": "ba4da1c5-b974-4221-9c31-699be576ea36",
   "metadata": {},
   "outputs": [],
   "source": [
    "names = np.array(['Bob', 'Joe', 'Will', 'Bob', 'Will', 'Joe', 'Joe'])\n",
    "data = np.random.randn(7, 4)"
   ]
  },
  {
   "cell_type": "code",
   "execution_count": 184,
   "id": "e446448a-6900-4706-95f7-b3e7b90b173b",
   "metadata": {},
   "outputs": [
    {
     "data": {
      "text/plain": [
       "array(['Bob', 'Joe', 'Will', 'Bob', 'Will', 'Joe', 'Joe'], dtype='<U4')"
      ]
     },
     "execution_count": 184,
     "metadata": {},
     "output_type": "execute_result"
    }
   ],
   "source": [
    "names"
   ]
  },
  {
   "cell_type": "code",
   "execution_count": 185,
   "id": "64f26636-d3f5-43d3-90a0-7c252f3038d2",
   "metadata": {},
   "outputs": [
    {
     "data": {
      "text/plain": [
       "array([[-1.70405666, -0.57704864,  1.31457715, -1.20168114],\n",
       "       [ 0.6416106 ,  0.14179381,  0.9091641 ,  1.17623066],\n",
       "       [ 0.39079397,  0.10049542,  0.99189026,  0.36890722],\n",
       "       [ 1.8375841 , -0.74137591, -0.05145606,  0.20420393],\n",
       "       [ 0.48153612, -0.23024981, -0.2356334 , -0.05616711],\n",
       "       [ 0.13973461,  0.06295616,  0.06263944,  0.14210173],\n",
       "       [ 0.0159376 , -0.67326761,  1.74360489, -2.72205008]])"
      ]
     },
     "execution_count": 185,
     "metadata": {},
     "output_type": "execute_result"
    }
   ],
   "source": [
    "data"
   ]
  },
  {
   "cell_type": "code",
   "execution_count": 187,
   "id": "594174e7-b4e2-494a-a011-2684e5a77c59",
   "metadata": {},
   "outputs": [
    {
     "data": {
      "text/plain": [
       "array([[-1.70405666, -0.57704864,  1.31457715, -1.20168114],\n",
       "       [ 1.8375841 , -0.74137591, -0.05145606,  0.20420393]])"
      ]
     },
     "execution_count": 187,
     "metadata": {},
     "output_type": "execute_result"
    }
   ],
   "source": [
    "data[names=='Bob'] # the Boolean indexing apply to the first axis"
   ]
  },
  {
   "cell_type": "markdown",
   "id": "3636a0b5-6313-46a5-b919-73cedafa1ebd",
   "metadata": {},
   "source": [
    "- Boolean indexing can be combined with the regular indexing with integers"
   ]
  },
  {
   "cell_type": "code",
   "execution_count": 191,
   "id": "58631d09-8072-4094-8a7c-db5c9c6e654d",
   "metadata": {},
   "outputs": [
    {
     "data": {
      "text/plain": [
       "array([ 1.31457715, -0.05145606])"
      ]
     },
     "execution_count": 191,
     "metadata": {},
     "output_type": "execute_result"
    }
   ],
   "source": [
    "data[(names=='Bob'), 2]"
   ]
  },
  {
   "cell_type": "code",
   "execution_count": 193,
   "id": "fc941f0a-c9f4-4dde-8d93-549fb51f9d38",
   "metadata": {},
   "outputs": [
    {
     "data": {
      "text/plain": [
       "array([[-1.70405666, -0.57704864],\n",
       "       [ 1.8375841 , -0.74137591]])"
      ]
     },
     "execution_count": 193,
     "metadata": {},
     "output_type": "execute_result"
    }
   ],
   "source": [
    "data[(names=='Bob'), :2]"
   ]
  },
  {
   "cell_type": "code",
   "execution_count": 199,
   "id": "d5d2e648-07b5-49b1-898b-5b57c76065cb",
   "metadata": {},
   "outputs": [],
   "source": [
    "second_boolean_index = [False, True, True, False]\n",
    "rows = data[names=='Bob']"
   ]
  },
  {
   "cell_type": "code",
   "execution_count": 200,
   "id": "a04e1497-bc60-4d7b-b18f-7d77b470c2dd",
   "metadata": {},
   "outputs": [
    {
     "data": {
      "text/plain": [
       "array([[-0.57704864,  1.31457715],\n",
       "       [-0.74137591, -0.05145606]])"
      ]
     },
     "execution_count": 200,
     "metadata": {},
     "output_type": "execute_result"
    }
   ],
   "source": [
    "rows[:, second_boolean_index]"
   ]
  },
  {
   "cell_type": "markdown",
   "id": "4a4ed658-ceb8-43a8-b352-976c1c5b1313",
   "metadata": {},
   "source": [
    "- However, combining Boolean indexing on multiple axes doesn't work as thought.\n",
    "- We can find answer in Fancy Indexing"
   ]
  },
  {
   "cell_type": "code",
   "execution_count": 204,
   "id": "6b61966c-04f9-44ab-a3f9-4058eb51ecc4",
   "metadata": {},
   "outputs": [
    {
     "data": {
      "text/plain": [
       "array([-0.57704864, -0.05145606])"
      ]
     },
     "execution_count": 204,
     "metadata": {},
     "output_type": "execute_result"
    }
   ],
   "source": [
    "data[names=='Bob', second_boolean_index]"
   ]
  },
  {
   "cell_type": "markdown",
   "id": "f593c2d7-9a27-464e-ac02-60f19743035e",
   "metadata": {},
   "source": [
    "### Setting values with Boolean indexing\n",
    "- To set all of the negative values in data to 0"
   ]
  },
  {
   "cell_type": "code",
   "execution_count": 205,
   "id": "9e8d132d-f08e-4df9-8692-737ad4292d6d",
   "metadata": {},
   "outputs": [
    {
     "data": {
      "text/plain": [
       "array([[-1.70405666, -0.57704864,  1.31457715, -1.20168114],\n",
       "       [ 0.6416106 ,  0.14179381,  0.9091641 ,  1.17623066],\n",
       "       [ 0.39079397,  0.10049542,  0.99189026,  0.36890722],\n",
       "       [ 1.8375841 , -0.74137591, -0.05145606,  0.20420393],\n",
       "       [ 0.48153612, -0.23024981, -0.2356334 , -0.05616711],\n",
       "       [ 0.13973461,  0.06295616,  0.06263944,  0.14210173],\n",
       "       [ 0.0159376 , -0.67326761,  1.74360489, -2.72205008]])"
      ]
     },
     "execution_count": 205,
     "metadata": {},
     "output_type": "execute_result"
    }
   ],
   "source": [
    "data"
   ]
  },
  {
   "cell_type": "code",
   "execution_count": 207,
   "id": "d25db949-1253-484e-af3c-f5a19255ed2b",
   "metadata": {},
   "outputs": [
    {
     "data": {
      "text/plain": [
       "array([[0.        , 0.        , 1.31457715, 0.        ],\n",
       "       [0.6416106 , 0.14179381, 0.9091641 , 1.17623066],\n",
       "       [0.39079397, 0.10049542, 0.99189026, 0.36890722],\n",
       "       [1.8375841 , 0.        , 0.        , 0.20420393],\n",
       "       [0.48153612, 0.        , 0.        , 0.        ],\n",
       "       [0.13973461, 0.06295616, 0.06263944, 0.14210173],\n",
       "       [0.0159376 , 0.        , 1.74360489, 0.        ]])"
      ]
     },
     "execution_count": 207,
     "metadata": {},
     "output_type": "execute_result"
    }
   ],
   "source": [
    "data[data<0] = 0\n",
    "data"
   ]
  },
  {
   "cell_type": "markdown",
   "id": "3ce460bb-c8e6-4271-b02f-45d34862b036",
   "metadata": {},
   "source": [
    "- Setting values by rows"
   ]
  },
  {
   "cell_type": "code",
   "execution_count": 209,
   "id": "e405e24c-b51f-4e9d-9354-c2eb34f972da",
   "metadata": {},
   "outputs": [
    {
     "data": {
      "text/plain": [
       "array([[0.        , 0.        , 1.31457715, 0.        ],\n",
       "       [0.6416106 , 0.14179381, 0.9091641 , 1.17623066],\n",
       "       [0.39079397, 0.10049542, 0.99189026, 0.36890722],\n",
       "       [1.8375841 , 0.        , 0.        , 0.20420393],\n",
       "       [0.48153612, 0.        , 0.        , 0.        ],\n",
       "       [0.13973461, 0.06295616, 0.06263944, 0.14210173],\n",
       "       [0.0159376 , 0.        , 1.74360489, 0.        ]])"
      ]
     },
     "execution_count": 209,
     "metadata": {},
     "output_type": "execute_result"
    }
   ],
   "source": [
    "data"
   ]
  },
  {
   "cell_type": "code",
   "execution_count": 210,
   "id": "fa0c4b1f-680d-4611-8756-daa7a5d3ba72",
   "metadata": {},
   "outputs": [
    {
     "data": {
      "text/plain": [
       "array([ True, False, False,  True, False, False, False])"
      ]
     },
     "execution_count": 210,
     "metadata": {},
     "output_type": "execute_result"
    }
   ],
   "source": [
    "names == 'Bob'"
   ]
  },
  {
   "cell_type": "code",
   "execution_count": 212,
   "id": "6a20e3bb-7f00-4a01-8b7a-48ac6ef5fb1f",
   "metadata": {},
   "outputs": [
    {
     "data": {
      "text/plain": [
       "array([[7.        , 7.        , 7.        , 7.        ],\n",
       "       [0.6416106 , 0.14179381, 0.9091641 , 1.17623066],\n",
       "       [7.        , 7.        , 7.        , 7.        ],\n",
       "       [7.        , 7.        , 7.        , 7.        ],\n",
       "       [7.        , 7.        , 7.        , 7.        ],\n",
       "       [0.13973461, 0.06295616, 0.06263944, 0.14210173],\n",
       "       [0.0159376 , 0.        , 1.74360489, 0.        ]])"
      ]
     },
     "execution_count": 212,
     "metadata": {},
     "output_type": "execute_result"
    }
   ],
   "source": [
    "data[names!='Joe'] = 7\n",
    "data"
   ]
  },
  {
   "cell_type": "code",
   "execution_count": 213,
   "id": "61d1ef41-8387-40aa-b314-ad932b7b6b69",
   "metadata": {},
   "outputs": [
    {
     "data": {
      "text/plain": [
       "array([ 6,  7,  8,  9, 10, 11])"
      ]
     },
     "execution_count": 213,
     "metadata": {},
     "output_type": "execute_result"
    }
   ],
   "source": [
    "x = np.array([[0, 1, 2],[3, 4, 5],[6, 7, 8],[9, 10, 11]])\n",
    "x[x>5]"
   ]
  },
  {
   "cell_type": "markdown",
   "id": "7ec7674d-8f4a-40d0-9176-238bd47debdd",
   "metadata": {},
   "source": [
    "### Fancy indexing\n",
    "- Fancy indexing is a term adopted by Numpy to describe indexing using **integer arrays(or lists)**\n",
    "- To select out a subset of the rows in a particular order, you can simply pass a list or ndarray of integers specifying the desired order."
   ]
  },
  {
   "cell_type": "code",
   "execution_count": 217,
   "id": "26864e38-c95a-4420-90e0-24d05042972c",
   "metadata": {},
   "outputs": [
    {
     "data": {
      "text/plain": [
       "array([[0., 0., 0., 0.],\n",
       "       [1., 1., 1., 1.],\n",
       "       [2., 2., 2., 2.],\n",
       "       [3., 3., 3., 3.],\n",
       "       [4., 4., 4., 4.],\n",
       "       [5., 5., 5., 5.],\n",
       "       [6., 6., 6., 6.],\n",
       "       [7., 7., 7., 7.]])"
      ]
     },
     "execution_count": 217,
     "metadata": {},
     "output_type": "execute_result"
    }
   ],
   "source": [
    "arr = np.empty((8, 4))\n",
    "for i in range(8):\n",
    "    arr[i] = i\n",
    "arr"
   ]
  },
  {
   "cell_type": "code",
   "execution_count": 218,
   "id": "d8b29d07-eb50-46d6-a148-f73798d53923",
   "metadata": {},
   "outputs": [
    {
     "data": {
      "text/plain": [
       "array([[4., 4., 4., 4.],\n",
       "       [3., 3., 3., 3.],\n",
       "       [0., 0., 0., 0.],\n",
       "       [6., 6., 6., 6.]])"
      ]
     },
     "execution_count": 218,
     "metadata": {},
     "output_type": "execute_result"
    }
   ],
   "source": [
    "arr[[4, 3, 0, 6]]"
   ]
  },
  {
   "cell_type": "markdown",
   "id": "e03acfc3-3d7d-49d2-9709-6b5dec894e38",
   "metadata": {},
   "source": [
    "- Using negative indices selects row from the end"
   ]
  },
  {
   "cell_type": "code",
   "execution_count": 219,
   "id": "950e167d-c633-482c-a36e-840af15ae4d0",
   "metadata": {},
   "outputs": [
    {
     "data": {
      "text/plain": [
       "array([[5., 5., 5., 5.],\n",
       "       [3., 3., 3., 3.],\n",
       "       [1., 1., 1., 1.]])"
      ]
     },
     "execution_count": 219,
     "metadata": {},
     "output_type": "execute_result"
    }
   ],
   "source": [
    "arr[[-3, -5, -7]]"
   ]
  },
  {
   "cell_type": "markdown",
   "id": "1c2eb148-3f1e-4dd1-a769-0ad5d1265857",
   "metadata": {},
   "source": [
    "- Fancy indexing works for any other axis too"
   ]
  },
  {
   "cell_type": "code",
   "execution_count": 221,
   "id": "19bf55cb-480b-4994-8f06-77794e5e1502",
   "metadata": {},
   "outputs": [
    {
     "data": {
      "text/plain": [
       "array([[ 0,  1,  2,  3],\n",
       "       [ 4,  5,  6,  7],\n",
       "       [ 8,  9, 10, 11],\n",
       "       [12, 13, 14, 15],\n",
       "       [16, 17, 18, 19],\n",
       "       [20, 21, 22, 23],\n",
       "       [24, 25, 26, 27],\n",
       "       [28, 29, 30, 31]])"
      ]
     },
     "execution_count": 221,
     "metadata": {},
     "output_type": "execute_result"
    }
   ],
   "source": [
    "arr = np.arange(32).reshape((8, 4))\n",
    "arr"
   ]
  },
  {
   "cell_type": "code",
   "execution_count": 222,
   "id": "4101eb41-6d36-4d9e-8aed-b8602e7c47f1",
   "metadata": {},
   "outputs": [
    {
     "data": {
      "text/plain": [
       "array([[ 2,  1],\n",
       "       [ 6,  5],\n",
       "       [10,  9],\n",
       "       [14, 13],\n",
       "       [18, 17],\n",
       "       [22, 21],\n",
       "       [26, 25],\n",
       "       [30, 29]])"
      ]
     },
     "execution_count": 222,
     "metadata": {},
     "output_type": "execute_result"
    }
   ],
   "source": [
    "arr[:, [2, 1]]"
   ]
  },
  {
   "cell_type": "markdown",
   "id": "d67dc329-79b2-4a18-bfab-8a47b2f64d97",
   "metadata": {},
   "source": [
    "- However, passing **multiple index arrays** does something slightly different; it selects a one-dimensional array of elements corresponding to **each tuple of indices**."
   ]
  },
  {
   "cell_type": "code",
   "execution_count": 223,
   "id": "f9842f4d-a699-4ee9-b2fa-f2e1889c578a",
   "metadata": {},
   "outputs": [
    {
     "data": {
      "text/plain": [
       "array([[ 0,  1,  2,  3],\n",
       "       [ 4,  5,  6,  7],\n",
       "       [ 8,  9, 10, 11],\n",
       "       [12, 13, 14, 15],\n",
       "       [16, 17, 18, 19],\n",
       "       [20, 21, 22, 23],\n",
       "       [24, 25, 26, 27],\n",
       "       [28, 29, 30, 31]])"
      ]
     },
     "execution_count": 223,
     "metadata": {},
     "output_type": "execute_result"
    }
   ],
   "source": [
    "arr = np.arange(32).reshape((8, 4))\n",
    "arr"
   ]
  },
  {
   "cell_type": "code",
   "execution_count": 224,
   "id": "8da96330-37de-4e73-aa9c-ee41dfacb96b",
   "metadata": {},
   "outputs": [
    {
     "data": {
      "text/plain": [
       "array([ 4, 23, 29, 10])"
      ]
     },
     "execution_count": 224,
     "metadata": {},
     "output_type": "execute_result"
    }
   ],
   "source": [
    "arr[[1, 5, 7, 2], [0, 3, 1, 2]]"
   ]
  },
  {
   "cell_type": "markdown",
   "id": "fc1d1bc4-325d-4160-8842-456a95371698",
   "metadata": {},
   "source": [
    "- Fancy indexing (Just like Boolean indexing), unlike slicing, always copies the data into a new array"
   ]
  },
  {
   "cell_type": "markdown",
   "id": "f0746441-ab63-4197-ae06-b3bb045c8161",
   "metadata": {
    "jp-MarkdownHeadingCollapsed": true
   },
   "source": [
    "## Transposing Arrays\n",
    "- Transposing is a special form of reshaping that similarly returns a view on the underlying data without copying anything.\n",
    "- Arrays have the transpose method and alsothe special T attribute"
   ]
  },
  {
   "cell_type": "code",
   "execution_count": 226,
   "id": "c5164cad-0677-4468-9117-befa36e49c94",
   "metadata": {},
   "outputs": [
    {
     "data": {
      "text/plain": [
       "array([[ 0,  1,  2,  3,  4],\n",
       "       [ 5,  6,  7,  8,  9],\n",
       "       [10, 11, 12, 13, 14]])"
      ]
     },
     "execution_count": 226,
     "metadata": {},
     "output_type": "execute_result"
    }
   ],
   "source": [
    "arr = np.arange(15).reshape((3, 5))\n",
    "arr"
   ]
  },
  {
   "cell_type": "code",
   "execution_count": 227,
   "id": "bc5260de-a234-4a4f-b61c-11c4525499b6",
   "metadata": {},
   "outputs": [
    {
     "data": {
      "text/plain": [
       "array([[ 0,  5, 10],\n",
       "       [ 1,  6, 11],\n",
       "       [ 2,  7, 12],\n",
       "       [ 3,  8, 13],\n",
       "       [ 4,  9, 14]])"
      ]
     },
     "execution_count": 227,
     "metadata": {},
     "output_type": "execute_result"
    }
   ],
   "source": [
    "arr.T"
   ]
  },
  {
   "cell_type": "code",
   "execution_count": 228,
   "id": "a6fa685d-5307-4fa1-a864-49852e3f0fff",
   "metadata": {},
   "outputs": [],
   "source": [
    "arr2 = arr.T"
   ]
  },
  {
   "cell_type": "code",
   "execution_count": 230,
   "id": "393c21dc-3856-4b35-ac11-f2e7ac2836d5",
   "metadata": {},
   "outputs": [
    {
     "data": {
      "text/plain": [
       "array([[2, 2, 2, 2, 2],\n",
       "       [2, 2, 2, 2, 2],\n",
       "       [2, 2, 2, 2, 2]])"
      ]
     },
     "execution_count": 230,
     "metadata": {},
     "output_type": "execute_result"
    }
   ],
   "source": [
    "arr2[:, :] = 2\n",
    "arr"
   ]
  },
  {
   "cell_type": "code",
   "execution_count": 231,
   "id": "1ec85cac-9bfb-4f86-b985-de512ca2e37a",
   "metadata": {},
   "outputs": [
    {
     "data": {
      "text/plain": [
       "array([[2, 2, 2],\n",
       "       [2, 2, 2],\n",
       "       [2, 2, 2],\n",
       "       [2, 2, 2],\n",
       "       [2, 2, 2]])"
      ]
     },
     "execution_count": 231,
     "metadata": {},
     "output_type": "execute_result"
    }
   ],
   "source": [
    "arr2"
   ]
  },
  {
   "cell_type": "markdown",
   "id": "98598eee-8295-4be4-8479-f7ec98f87a40",
   "metadata": {},
   "source": [
    "- For higher dimensional arrays, **transpose()** will accept **a tuple of axis** numbers to permute the axes\n",
    "- **swapaxes()**, which takes **a pair of axis numbers** and switches the indicated axes to rearrange the data\n",
    "- These functions don't copy data"
   ]
  },
  {
   "cell_type": "code",
   "execution_count": 234,
   "id": "5434f1d9-c2f2-4792-a767-eab7636f70b1",
   "metadata": {},
   "outputs": [
    {
     "data": {
      "text/plain": [
       "array([[2, 2, 2],\n",
       "       [2, 2, 2],\n",
       "       [2, 2, 2],\n",
       "       [2, 2, 2],\n",
       "       [2, 2, 2]])"
      ]
     },
     "execution_count": 234,
     "metadata": {},
     "output_type": "execute_result"
    }
   ],
   "source": [
    "arr.transpose((1, 0))"
   ]
  },
  {
   "cell_type": "code",
   "execution_count": 235,
   "id": "cc76025e-884b-4e99-9cb2-b88d815cfa44",
   "metadata": {},
   "outputs": [
    {
     "data": {
      "text/plain": [
       "array([[2, 2, 2],\n",
       "       [2, 2, 2],\n",
       "       [2, 2, 2],\n",
       "       [2, 2, 2],\n",
       "       [2, 2, 2]])"
      ]
     },
     "execution_count": 235,
     "metadata": {},
     "output_type": "execute_result"
    }
   ],
   "source": [
    "arr.swapaxes(1, 0)"
   ]
  },
  {
   "cell_type": "code",
   "execution_count": 238,
   "id": "b7bb16da-86ad-4c07-afa1-80668d4b172e",
   "metadata": {},
   "outputs": [
    {
     "data": {
      "text/plain": [
       "array([[2, 2, 2],\n",
       "       [2, 2, 2],\n",
       "       [2, 2, 2],\n",
       "       [2, 2, 2],\n",
       "       [2, 2, 2]])"
      ]
     },
     "execution_count": 238,
     "metadata": {},
     "output_type": "execute_result"
    }
   ],
   "source": [
    "arr.swapaxes(0,1)"
   ]
  },
  {
   "cell_type": "code",
   "execution_count": 239,
   "id": "5d21138d-98ee-4c79-b3f5-ba03e2fad503",
   "metadata": {},
   "outputs": [
    {
     "data": {
      "text/plain": [
       "array([[[ 1,  2,  3,  4],\n",
       "        [ 5,  6,  7,  8],\n",
       "        [ 9, 10, 11, 12]],\n",
       "\n",
       "       [[13, 14, 15, 16],\n",
       "        [17, 18, 19, 20],\n",
       "        [21, 22, 23, 24]]])"
      ]
     },
     "execution_count": 239,
     "metadata": {},
     "output_type": "execute_result"
    }
   ],
   "source": [
    "arr3 = np.arange(1, 25).reshape((2, 3, 4))\n",
    "arr3"
   ]
  },
  {
   "cell_type": "code",
   "execution_count": 241,
   "id": "3384c144-a775-4308-a855-d309feb302f4",
   "metadata": {},
   "outputs": [
    {
     "data": {
      "text/plain": [
       "array([[[ 1,  5,  9],\n",
       "        [13, 17, 21]],\n",
       "\n",
       "       [[ 2,  6, 10],\n",
       "        [14, 18, 22]],\n",
       "\n",
       "       [[ 3,  7, 11],\n",
       "        [15, 19, 23]],\n",
       "\n",
       "       [[ 4,  8, 12],\n",
       "        [16, 20, 24]]])"
      ]
     },
     "execution_count": 241,
     "metadata": {},
     "output_type": "execute_result"
    }
   ],
   "source": [
    "arr3.transpose((2, 0, 1))"
   ]
  },
  {
   "cell_type": "code",
   "execution_count": 242,
   "id": "497b34ec-b246-4560-a434-ff285a1dc4fa",
   "metadata": {},
   "outputs": [
    {
     "data": {
      "text/plain": [
       "array([[[ 1, 13],\n",
       "        [ 5, 17],\n",
       "        [ 9, 21]],\n",
       "\n",
       "       [[ 2, 14],\n",
       "        [ 6, 18],\n",
       "        [10, 22]],\n",
       "\n",
       "       [[ 3, 15],\n",
       "        [ 7, 19],\n",
       "        [11, 23]],\n",
       "\n",
       "       [[ 4, 16],\n",
       "        [ 8, 20],\n",
       "        [12, 24]]])"
      ]
     },
     "execution_count": 242,
     "metadata": {},
     "output_type": "execute_result"
    }
   ],
   "source": [
    "arr3.transpose((2, 1, 0))"
   ]
  },
  {
   "cell_type": "markdown",
   "id": "9ff3b93c-4dc5-45e8-8998-aeec67464402",
   "metadata": {
    "jp-MarkdownHeadingCollapsed": true
   },
   "source": [
    "## Universal Function\n",
    "- A universal function, or ufunc, is a function that performs element-wise operations on data in ndarrays\n",
    "- unary ufuncs take one array as input"
   ]
  },
  {
   "cell_type": "code",
   "execution_count": 243,
   "id": "5f8f41b8-538f-4522-85aa-867019636ff5",
   "metadata": {},
   "outputs": [
    {
     "data": {
      "text/plain": [
       "array([0, 1, 2, 3, 4, 5, 6, 7, 8, 9])"
      ]
     },
     "execution_count": 243,
     "metadata": {},
     "output_type": "execute_result"
    }
   ],
   "source": [
    "arr = np.arange(10)\n",
    "arr"
   ]
  },
  {
   "cell_type": "code",
   "execution_count": 244,
   "id": "64db0658-866d-45bd-8f78-2f007de5f457",
   "metadata": {},
   "outputs": [
    {
     "data": {
      "text/plain": [
       "array([0.        , 1.        , 1.41421356, 1.73205081, 2.        ,\n",
       "       2.23606798, 2.44948974, 2.64575131, 2.82842712, 3.        ])"
      ]
     },
     "execution_count": 244,
     "metadata": {},
     "output_type": "execute_result"
    }
   ],
   "source": [
    "np.sqrt(arr)"
   ]
  },
  {
   "cell_type": "code",
   "execution_count": 245,
   "id": "3dc1a157-e2a0-4d7e-a12b-8f6a9f7f6dd3",
   "metadata": {},
   "outputs": [
    {
     "data": {
      "text/plain": [
       "array([1.00000000e+00, 2.71828183e+00, 7.38905610e+00, 2.00855369e+01,\n",
       "       5.45981500e+01, 1.48413159e+02, 4.03428793e+02, 1.09663316e+03,\n",
       "       2.98095799e+03, 8.10308393e+03])"
      ]
     },
     "execution_count": 245,
     "metadata": {},
     "output_type": "execute_result"
    }
   ],
   "source": [
    "np.exp(arr)"
   ]
  },
  {
   "cell_type": "markdown",
   "id": "c933ab3b-53a7-4bda-9ddb-b3c362cb6f1a",
   "metadata": {},
   "source": [
    "### binary ufunc\n",
    "- binary ufuncs take two arrays as input"
   ]
  },
  {
   "cell_type": "code",
   "execution_count": 261,
   "id": "68200c7a-613d-48ea-b473-33cc2c89f984",
   "metadata": {},
   "outputs": [],
   "source": [
    "x = np.random.randn(8)\n",
    "y = np.random.randn(8)"
   ]
  },
  {
   "cell_type": "code",
   "execution_count": 262,
   "id": "cdb38b86-f871-4d27-a583-133ddb9e9eec",
   "metadata": {},
   "outputs": [
    {
     "data": {
      "text/plain": [
       "array([ 0.68359974,  3.00061158,  1.11065556,  1.49798922,  1.22683124,\n",
       "        0.42307862, -0.15824828, -0.05490988])"
      ]
     },
     "execution_count": 262,
     "metadata": {},
     "output_type": "execute_result"
    }
   ],
   "source": [
    "x"
   ]
  },
  {
   "cell_type": "code",
   "execution_count": 263,
   "id": "9fefbc2b-12f3-470d-ae77-8e0f93889356",
   "metadata": {},
   "outputs": [
    {
     "data": {
      "text/plain": [
       "array([ 1.25179401, -0.87783343,  1.12537192,  0.70224596, -0.11105593,\n",
       "       -1.08160546,  0.32838096, -0.0671155 ])"
      ]
     },
     "execution_count": 263,
     "metadata": {},
     "output_type": "execute_result"
    }
   ],
   "source": [
    "y"
   ]
  },
  {
   "cell_type": "code",
   "execution_count": 264,
   "id": "d1460ad6-d8c3-48cc-a1f7-f1977c755ace",
   "metadata": {},
   "outputs": [
    {
     "data": {
      "text/plain": [
       "array([ 1.25179401,  3.00061158,  1.12537192,  1.49798922,  1.22683124,\n",
       "        0.42307862,  0.32838096, -0.05490988])"
      ]
     },
     "execution_count": 264,
     "metadata": {},
     "output_type": "execute_result"
    }
   ],
   "source": [
    "np.maximum(x, y)"
   ]
  },
  {
   "cell_type": "markdown",
   "id": "61940bd1-263f-4946-b549-09c3f053b3c0",
   "metadata": {},
   "source": [
    "- Some ufuncs return more than one arrays."
   ]
  },
  {
   "cell_type": "code",
   "execution_count": 265,
   "id": "2e6d0301-0f2b-4d47-bedf-3b0be5ed6dc4",
   "metadata": {},
   "outputs": [
    {
     "data": {
      "text/plain": [
       "array([-4.48583083,  7.53956571, -0.21101998,  2.29797396, -3.33346141,\n",
       "        0.39063993,  7.09020223])"
      ]
     },
     "execution_count": 265,
     "metadata": {},
     "output_type": "execute_result"
    }
   ],
   "source": [
    "arr = np.random.randn(7) * 5\n",
    "arr"
   ]
  },
  {
   "cell_type": "code",
   "execution_count": 266,
   "id": "cfc4b00c-95ab-4933-a942-e191424c2af5",
   "metadata": {},
   "outputs": [],
   "source": [
    "remainder, whole_part = np.modf(arr)"
   ]
  },
  {
   "cell_type": "code",
   "execution_count": 267,
   "id": "79eb3bb9-4a35-4ac0-b68b-69041cf64dd2",
   "metadata": {},
   "outputs": [
    {
     "data": {
      "text/plain": [
       "array([-0.48583083,  0.53956571, -0.21101998,  0.29797396, -0.33346141,\n",
       "        0.39063993,  0.09020223])"
      ]
     },
     "execution_count": 267,
     "metadata": {},
     "output_type": "execute_result"
    }
   ],
   "source": [
    "remainder"
   ]
  },
  {
   "cell_type": "code",
   "execution_count": 268,
   "id": "8fd835f8-d74c-471e-91ea-ed809c66f3fe",
   "metadata": {},
   "outputs": [
    {
     "data": {
      "text/plain": [
       "array([-4.,  7., -0.,  2., -3.,  0.,  7.])"
      ]
     },
     "execution_count": 268,
     "metadata": {},
     "output_type": "execute_result"
    }
   ],
   "source": [
    "whole_part"
   ]
  },
  {
   "cell_type": "markdown",
   "id": "98825bb2-1fd6-421c-9f3b-6232d95dec71",
   "metadata": {},
   "source": [
    "- Ufuncs accept an optional out argument that allows them to operate in-place on arrays"
   ]
  },
  {
   "cell_type": "code",
   "execution_count": 270,
   "id": "e0780c60-bb5b-4337-9321-94319b9a21b7",
   "metadata": {},
   "outputs": [
    {
     "data": {
      "text/plain": [
       "array([-4.48583083,  7.53956571, -0.21101998,  2.29797396, -3.33346141,\n",
       "        0.39063993,  7.09020223])"
      ]
     },
     "execution_count": 270,
     "metadata": {},
     "output_type": "execute_result"
    }
   ],
   "source": [
    "arr"
   ]
  },
  {
   "cell_type": "code",
   "execution_count": 271,
   "id": "1bdc49c6-4602-41d2-a6be-4407714e657b",
   "metadata": {},
   "outputs": [
    {
     "name": "stderr",
     "output_type": "stream",
     "text": [
      "/var/folders/hd/lhc8mr3n36gcrlwdnlqdqz_40000gn/T/ipykernel_41778/3181911811.py:3: RuntimeWarning: invalid value encountered in sqrt\n",
      "  np.sqrt(arr, arr)\n"
     ]
    },
    {
     "data": {
      "text/plain": [
       "array([       nan, 2.74582696,        nan, 1.51590698,        nan,\n",
       "       0.62501194, 2.66274336])"
      ]
     },
     "execution_count": 271,
     "metadata": {},
     "output_type": "execute_result"
    }
   ],
   "source": [
    "# compute the square root for each element of the array arr given as the first argument, \n",
    "# and store the result in the array arr passed as the second argument\n",
    "np.sqrt(arr, arr)"
   ]
  },
  {
   "cell_type": "code",
   "execution_count": 272,
   "id": "50a7c4e8-c183-4507-9b33-c3c43a74ec49",
   "metadata": {},
   "outputs": [
    {
     "data": {
      "text/plain": [
       "array([       nan, 2.74582696,        nan, 1.51590698,        nan,\n",
       "       0.62501194, 2.66274336])"
      ]
     },
     "execution_count": 272,
     "metadata": {},
     "output_type": "execute_result"
    }
   ],
   "source": [
    "arr"
   ]
  },
  {
   "cell_type": "markdown",
   "id": "44f98105-20c6-4158-b55f-fe356beb1e14",
   "metadata": {
    "jp-MarkdownHeadingCollapsed": true
   },
   "source": [
    "## Mathematical and Statistical Methods\n",
    "- Computing sum, mean, and std(standart deviation) either by calling the array member method or using the top-level NumPy function."
   ]
  },
  {
   "cell_type": "code",
   "execution_count": 273,
   "id": "64a47ec1-13d9-4e36-8984-11b8a0849e5d",
   "metadata": {},
   "outputs": [
    {
     "data": {
      "text/plain": [
       "array([[ 1.17411163,  0.28427222, -0.94195297,  1.99338262],\n",
       "       [ 0.62718037,  0.04641632, -0.00890745,  0.27997538],\n",
       "       [ 0.45484458, -0.61127019, -0.19914092,  1.19088003],\n",
       "       [ 0.46488887,  0.55685366,  2.14643044,  1.30718092],\n",
       "       [ 1.63993421,  0.19367403,  1.26224539, -0.29610009]])"
      ]
     },
     "execution_count": 273,
     "metadata": {},
     "output_type": "execute_result"
    }
   ],
   "source": [
    "arr = np.random.randn(5, 4)\n",
    "arr"
   ]
  },
  {
   "cell_type": "code",
   "execution_count": 274,
   "id": "f8e1abab-88a2-4703-ac66-d5b438d8e778",
   "metadata": {},
   "outputs": [
    {
     "data": {
      "text/plain": [
       "0.5782449530321887"
      ]
     },
     "execution_count": 274,
     "metadata": {},
     "output_type": "execute_result"
    }
   ],
   "source": [
    "arr.mean()"
   ]
  },
  {
   "cell_type": "code",
   "execution_count": 275,
   "id": "d74d3fb2-95a8-4aff-acef-a6665622afe5",
   "metadata": {},
   "outputs": [
    {
     "data": {
      "text/plain": [
       "0.5782449530321887"
      ]
     },
     "execution_count": 275,
     "metadata": {},
     "output_type": "execute_result"
    }
   ],
   "source": [
    "np.mean(arr)"
   ]
  },
  {
   "cell_type": "code",
   "execution_count": 276,
   "id": "895e5871-2654-48af-9f00-f426ba0472cf",
   "metadata": {},
   "outputs": [
    {
     "data": {
      "text/plain": [
       "11.564899060643773"
      ]
     },
     "execution_count": 276,
     "metadata": {},
     "output_type": "execute_result"
    }
   ],
   "source": [
    "arr.sum()"
   ]
  },
  {
   "cell_type": "markdown",
   "id": "dd9356f3-ecec-4c91-87d1-ff740f55f2b3",
   "metadata": {},
   "source": [
    "### Statistics of Arrays\n",
    "- static over the given axis"
   ]
  },
  {
   "cell_type": "code",
   "execution_count": 277,
   "id": "9c317130-6938-430e-8bd8-318d6aeea509",
   "metadata": {},
   "outputs": [
    {
     "data": {
      "text/plain": [
       "array([[ 1.17411163,  0.28427222, -0.94195297,  1.99338262],\n",
       "       [ 0.62718037,  0.04641632, -0.00890745,  0.27997538],\n",
       "       [ 0.45484458, -0.61127019, -0.19914092,  1.19088003],\n",
       "       [ 0.46488887,  0.55685366,  2.14643044,  1.30718092],\n",
       "       [ 1.63993421,  0.19367403,  1.26224539, -0.29610009]])"
      ]
     },
     "execution_count": 277,
     "metadata": {},
     "output_type": "execute_result"
    }
   ],
   "source": [
    "arr"
   ]
  },
  {
   "cell_type": "code",
   "execution_count": 280,
   "id": "d781d496-6c61-4946-952e-2e302cd7a075",
   "metadata": {},
   "outputs": [
    {
     "data": {
      "text/plain": [
       "array([0.62745337, 0.23616616, 0.20882838, 1.11883847, 0.69993839])"
      ]
     },
     "execution_count": 280,
     "metadata": {},
     "output_type": "execute_result"
    }
   ],
   "source": [
    "# collapse axis 1\n",
    "# same as arr.mean(1) or np.mean(arr, 1)\n",
    "arr.mean(axis=1)"
   ]
  },
  {
   "cell_type": "code",
   "execution_count": 281,
   "id": "0c354331-8867-46bf-900b-26b95f305c06",
   "metadata": {},
   "outputs": [
    {
     "data": {
      "text/plain": [
       "array([4.36095966, 0.46994604, 2.2586745 , 4.47531887])"
      ]
     },
     "execution_count": 281,
     "metadata": {},
     "output_type": "execute_result"
    }
   ],
   "source": [
    "arr.sum(axis=0) # collapse axis 0"
   ]
  },
  {
   "cell_type": "markdown",
   "id": "18fa6351-3c28-4a4e-b4fa-0f6cf60c8aa4",
   "metadata": {
    "jp-MarkdownHeadingCollapsed": true
   },
   "source": [
    "### Cumulative Statistics\n",
    "- Cumulative functions like cumsum and cumprod do not aggregate, instead of producing an array of the intermediate results"
   ]
  },
  {
   "cell_type": "code",
   "execution_count": 282,
   "id": "ac50c0e4-116c-4fc8-bc80-6c561ed42dad",
   "metadata": {},
   "outputs": [
    {
     "data": {
      "text/plain": [
       "array([0, 1, 2, 3, 4, 5, 6, 7])"
      ]
     },
     "execution_count": 282,
     "metadata": {},
     "output_type": "execute_result"
    }
   ],
   "source": [
    "arr = np.arange(8)\n",
    "arr"
   ]
  },
  {
   "cell_type": "code",
   "execution_count": 283,
   "id": "3686f990-6721-41e1-8b33-24017e8e847a",
   "metadata": {},
   "outputs": [
    {
     "data": {
      "text/plain": [
       "array([ 0,  1,  3,  6, 10, 15, 21, 28])"
      ]
     },
     "execution_count": 283,
     "metadata": {},
     "output_type": "execute_result"
    }
   ],
   "source": [
    "arr.cumsum()"
   ]
  },
  {
   "cell_type": "code",
   "execution_count": 285,
   "id": "13b3723f-fe9a-4897-84cb-f86bb4f91b1c",
   "metadata": {},
   "outputs": [
    {
     "data": {
      "text/plain": [
       "array([[0, 1, 2],\n",
       "       [3, 4, 5],\n",
       "       [6, 7, 8]])"
      ]
     },
     "execution_count": 285,
     "metadata": {},
     "output_type": "execute_result"
    }
   ],
   "source": [
    "arr = np.arange(9).reshape((3, 3,))\n",
    "arr"
   ]
  },
  {
   "cell_type": "code",
   "execution_count": 286,
   "id": "f090d2f8-d606-46c9-ba74-c04deffa6dd8",
   "metadata": {},
   "outputs": [
    {
     "data": {
      "text/plain": [
       "array([[ 0,  1,  2],\n",
       "       [ 3,  5,  7],\n",
       "       [ 9, 12, 15]])"
      ]
     },
     "execution_count": 286,
     "metadata": {},
     "output_type": "execute_result"
    }
   ],
   "source": [
    "arr.cumsum(axis=0)"
   ]
  },
  {
   "cell_type": "code",
   "execution_count": 287,
   "id": "9fb305e7-6f61-4d7f-8858-1774d6f3ca5c",
   "metadata": {},
   "outputs": [
    {
     "data": {
      "text/plain": [
       "array([[  0,   0,   0],\n",
       "       [  3,  12,  60],\n",
       "       [  6,  42, 336]])"
      ]
     },
     "execution_count": 287,
     "metadata": {},
     "output_type": "execute_result"
    }
   ],
   "source": [
    "arr.cumprod(axis=1)"
   ]
  },
  {
   "cell_type": "markdown",
   "id": "c9a34ec0-d6de-418d-a225-8ecc335a4165",
   "metadata": {
    "jp-MarkdownHeadingCollapsed": true
   },
   "source": [
    "## Boolean arrays\n",
    "- Boolean values are coerced to 1 (True) and 0 (False) in preceding methods.\n",
    "- Thus, sum is often used as **a means of counting True values** in a boolean array."
   ]
  },
  {
   "cell_type": "code",
   "execution_count": 288,
   "id": "814b490a-e2c7-4f32-a26a-ecbe2da2e073",
   "metadata": {},
   "outputs": [
    {
     "data": {
      "text/plain": [
       "48"
      ]
     },
     "execution_count": 288,
     "metadata": {},
     "output_type": "execute_result"
    }
   ],
   "source": [
    "arr = np.random.randn(100)\n",
    "(arr > 0).sum() # Number of positive"
   ]
  },
  {
   "cell_type": "markdown",
   "id": "1eec9c31-114a-4096-be76-2bafdc72ce3a",
   "metadata": {},
   "source": [
    "- **\"any\"** tests whether one or more values in an array is True, while **\"all\"** checks if every value is True"
   ]
  },
  {
   "cell_type": "code",
   "execution_count": 289,
   "id": "1f0e47cf-ea18-4274-888f-5ec43d69f960",
   "metadata": {},
   "outputs": [
    {
     "data": {
      "text/plain": [
       "True"
      ]
     },
     "execution_count": 289,
     "metadata": {},
     "output_type": "execute_result"
    }
   ],
   "source": [
    "bools = np.array([False, False, True, False])\n",
    "bools.any()"
   ]
  },
  {
   "cell_type": "code",
   "execution_count": 290,
   "id": "574f4c75-817e-4e2e-bd56-7a16f431a986",
   "metadata": {},
   "outputs": [
    {
     "data": {
      "text/plain": [
       "False"
      ]
     },
     "execution_count": 290,
     "metadata": {},
     "output_type": "execute_result"
    }
   ],
   "source": [
    "bools.all()"
   ]
  },
  {
   "cell_type": "markdown",
   "id": "4b879f21-1127-4d17-8c44-cd7b1898ebf1",
   "metadata": {},
   "source": [
    "- These methods also work with **non-boolean arrays**, where non-zero elements evaluate to True."
   ]
  },
  {
   "cell_type": "markdown",
   "id": "db4af24a-aeca-41b3-9cc1-da47751f5205",
   "metadata": {
    "jp-MarkdownHeadingCollapsed": true
   },
   "source": [
    "## Sorting in place\n",
    "- Like Python's built-in list type, NumPy arrays can be **sorted in-place** with the sort **member method**."
   ]
  },
  {
   "cell_type": "code",
   "execution_count": 291,
   "id": "005b7077-ebd4-4a5a-b48e-16d14f10da37",
   "metadata": {},
   "outputs": [
    {
     "data": {
      "text/plain": [
       "array([-0.49414793, -0.25373879,  1.48097638, -0.08038384,  0.74261572,\n",
       "        1.11861009])"
      ]
     },
     "execution_count": 291,
     "metadata": {},
     "output_type": "execute_result"
    }
   ],
   "source": [
    "arr = np.random.randn(6)\n",
    "arr"
   ]
  },
  {
   "cell_type": "code",
   "execution_count": 293,
   "id": "74bf50a3-050a-4cbf-807e-6b0bd70f9533",
   "metadata": {},
   "outputs": [
    {
     "data": {
      "text/plain": [
       "array([-0.49414793, -0.25373879, -0.08038384,  0.74261572,  1.11861009,\n",
       "        1.48097638])"
      ]
     },
     "execution_count": 293,
     "metadata": {},
     "output_type": "execute_result"
    }
   ],
   "source": [
    "arr.sort()\n",
    "arr"
   ]
  },
  {
   "cell_type": "markdown",
   "id": "bb9634b0-6063-4848-a6a2-109056844a7b",
   "metadata": {},
   "source": [
    "- We can sort each one-dimensional section of values in a multidimensional array in-place **along an axis** by passing the axis number to sort"
   ]
  },
  {
   "cell_type": "code",
   "execution_count": 294,
   "id": "4eacf770-c5fa-41d9-bda2-fae47450f493",
   "metadata": {},
   "outputs": [
    {
     "data": {
      "text/plain": [
       "array([[-1.57135074, -0.19007847,  1.67200352],\n",
       "       [ 0.06872642, -0.51568108,  0.61749916],\n",
       "       [ 0.21266512,  1.86053197, -0.99881178],\n",
       "       [ 1.15999632, -1.16708733, -1.97362332],\n",
       "       [ 1.65151351,  0.1533982 ,  0.3149267 ]])"
      ]
     },
     "execution_count": 294,
     "metadata": {},
     "output_type": "execute_result"
    }
   ],
   "source": [
    "arr = np.random.randn(5, 3)\n",
    "arr"
   ]
  },
  {
   "cell_type": "code",
   "execution_count": 296,
   "id": "533aa68d-f0fa-4746-96bf-b130293dc02b",
   "metadata": {},
   "outputs": [
    {
     "data": {
      "text/plain": [
       "array([[-1.57135074, -0.19007847,  1.67200352],\n",
       "       [-0.51568108,  0.06872642,  0.61749916],\n",
       "       [-0.99881178,  0.21266512,  1.86053197],\n",
       "       [-1.97362332, -1.16708733,  1.15999632],\n",
       "       [ 0.1533982 ,  0.3149267 ,  1.65151351]])"
      ]
     },
     "execution_count": 296,
     "metadata": {},
     "output_type": "execute_result"
    }
   ],
   "source": [
    "arr.sort(1)\n",
    "arr"
   ]
  },
  {
   "cell_type": "markdown",
   "id": "96677ad4-7ad7-4484-aac7-74499289a1a3",
   "metadata": {
    "jp-MarkdownHeadingCollapsed": true
   },
   "source": [
    "## Sorting and copy\n",
    "- The top-level method **np.sort** returns a sorted **copy** of an array instead of modifying the array in-place."
   ]
  },
  {
   "cell_type": "code",
   "execution_count": 299,
   "id": "0009f945-2734-4a50-b914-dfdcfec69c29",
   "metadata": {},
   "outputs": [
    {
     "data": {
      "text/plain": [
       "array([[-1.57135074, -0.19007847,  1.67200352],\n",
       "       [-0.51568108,  0.06872642,  0.61749916],\n",
       "       [-0.99881178,  0.21266512,  1.86053197],\n",
       "       [-1.97362332, -1.16708733,  1.15999632],\n",
       "       [ 0.1533982 ,  0.3149267 ,  1.65151351]])"
      ]
     },
     "execution_count": 299,
     "metadata": {},
     "output_type": "execute_result"
    }
   ],
   "source": [
    "np.sort(arr)"
   ]
  },
  {
   "cell_type": "code",
   "execution_count": 300,
   "id": "3a9f3141-263e-42c0-8cc6-fdcad2cdf23b",
   "metadata": {},
   "outputs": [
    {
     "data": {
      "text/plain": [
       "array([[-1.57135074, -0.19007847,  1.67200352],\n",
       "       [-0.51568108,  0.06872642,  0.61749916],\n",
       "       [-0.99881178,  0.21266512,  1.86053197],\n",
       "       [-1.97362332, -1.16708733,  1.15999632],\n",
       "       [ 0.1533982 ,  0.3149267 ,  1.65151351]])"
      ]
     },
     "execution_count": 300,
     "metadata": {},
     "output_type": "execute_result"
    }
   ],
   "source": [
    "np.sort(arr, 1)"
   ]
  },
  {
   "cell_type": "markdown",
   "id": "aef6ac48-a378-4f9c-88b3-5c7ed84f7d34",
   "metadata": {
    "jp-MarkdownHeadingCollapsed": true
   },
   "source": [
    "## Set logic\n",
    "- NumPy has some basic set operations for one-dimensional ndarrays.\n",
    "- **np.unique**"
   ]
  },
  {
   "cell_type": "code",
   "execution_count": 301,
   "id": "3e4ae825-1d14-4630-882f-a15308c4576b",
   "metadata": {},
   "outputs": [
    {
     "data": {
      "text/plain": [
       "array(['Bob', 'Joe', 'Will'], dtype='<U4')"
      ]
     },
     "execution_count": 301,
     "metadata": {},
     "output_type": "execute_result"
    }
   ],
   "source": [
    "names = np.array(['Bob', 'Joe', 'Will', 'Bob', 'Will', 'Joe', 'Joe'])\n",
    "np.unique(names)"
   ]
  },
  {
   "cell_type": "code",
   "execution_count": 302,
   "id": "f6486fd5-50a6-4510-a631-3f0be5d482ad",
   "metadata": {},
   "outputs": [
    {
     "data": {
      "text/plain": [
       "array([1, 2, 3, 4])"
      ]
     },
     "execution_count": 302,
     "metadata": {},
     "output_type": "execute_result"
    }
   ],
   "source": [
    "ints = np.array([3, 3, 3, 2, 2, 1, 1, 4, 4])\n",
    "np.unique(ints)"
   ]
  },
  {
   "cell_type": "markdown",
   "id": "e3738029-395c-4fdf-a89d-f3baaf0cc431",
   "metadata": {},
   "source": [
    "- **np.in1d**, tests membership of the values in one array in another"
   ]
  },
  {
   "cell_type": "code",
   "execution_count": 303,
   "id": "b9239a09-673d-45d3-983d-9ce9a9b070bb",
   "metadata": {},
   "outputs": [
    {
     "data": {
      "text/plain": [
       "array([ True, False, False,  True,  True, False,  True])"
      ]
     },
     "execution_count": 303,
     "metadata": {},
     "output_type": "execute_result"
    }
   ],
   "source": [
    "values = np.array([6, 0, 0, 3, 2, 5, 6])\n",
    "np.in1d(values, [2, 3, 6])"
   ]
  },
  {
   "cell_type": "markdown",
   "id": "26724a43-0c0b-46f1-98b4-e5fa336c48f3",
   "metadata": {
    "jp-MarkdownHeadingCollapsed": true
   },
   "source": [
    "## Save and Load Arrays\n",
    "- **np.save** and **np.load** efficiently saving and loading array data on disk in the np **built-in binary format**\n",
    "- **np.save** a **single** array in an uncompressed raw binary format with file extension **.npy**"
   ]
  },
  {
   "cell_type": "code",
   "execution_count": 304,
   "id": "df15be0c-c926-426d-8ae4-77ab59745bed",
   "metadata": {},
   "outputs": [
    {
     "data": {
      "text/plain": [
       "array([0, 1, 2, 3, 4, 5, 6, 7, 8, 9])"
      ]
     },
     "execution_count": 304,
     "metadata": {},
     "output_type": "execute_result"
    }
   ],
   "source": [
    "arr = np.arange(10)\n",
    "arr"
   ]
  },
  {
   "cell_type": "code",
   "execution_count": 305,
   "id": "b2f12bc4-dc01-41ba-b924-df4c0d298d54",
   "metadata": {},
   "outputs": [],
   "source": [
    "np.save('some_array', arr)"
   ]
  },
  {
   "cell_type": "code",
   "execution_count": 307,
   "id": "2fe3fff9-ce88-42b5-8e4e-ea293e74da03",
   "metadata": {},
   "outputs": [
    {
     "data": {
      "text/plain": [
       "array([0, 1, 2, 3, 4, 5, 6, 7, 8, 9])"
      ]
     },
     "execution_count": 307,
     "metadata": {},
     "output_type": "execute_result"
    }
   ],
   "source": [
    "np.load('some_array.npy')"
   ]
  },
  {
   "cell_type": "markdown",
   "id": "3718aa0c-ea79-4e51-84a3-06c38a6d601c",
   "metadata": {},
   "source": [
    "- **np.savez multiple** arrays in an uncompressed raw binary format with file extension **.npz**\n",
    "- When loading an .npz file, you get back a **dict-like** object"
   ]
  },
  {
   "cell_type": "code",
   "execution_count": 310,
   "id": "36c32300-a164-4c48-bc52-5c6256afbf0a",
   "metadata": {},
   "outputs": [],
   "source": [
    "arr = np.arange(10)\n",
    "names = np.array(['Bob', 'Joe', 'Will', 'Bob', 'Will', 'Joe', 'Joe'])\n",
    "np.savez('array_archive.npz', a=arr, b=names)\n",
    "arch = np.load('array_archive.npz')"
   ]
  },
  {
   "cell_type": "code",
   "execution_count": 314,
   "id": "f2108563-9ea6-48b5-afda-5a304fa6d856",
   "metadata": {},
   "outputs": [
    {
     "data": {
      "text/plain": [
       "['a', 'b']"
      ]
     },
     "execution_count": 314,
     "metadata": {},
     "output_type": "execute_result"
    }
   ],
   "source": [
    "list(arch.keys())"
   ]
  },
  {
   "cell_type": "code",
   "execution_count": 315,
   "id": "66730c95-bff1-4b49-98dd-cd9afeeaaf8e",
   "metadata": {},
   "outputs": [
    {
     "data": {
      "text/plain": [
       "KeysView(<numpy.lib.npyio.NpzFile object at 0x7fe8f399ca60>)"
      ]
     },
     "execution_count": 315,
     "metadata": {},
     "output_type": "execute_result"
    }
   ],
   "source": [
    "arch.keys()"
   ]
  },
  {
   "cell_type": "code",
   "execution_count": 313,
   "id": "29943cc1-3465-472d-b87e-04947c835bce",
   "metadata": {},
   "outputs": [
    {
     "data": {
      "text/plain": [
       "array([0, 1, 2, 3, 4, 5, 6, 7, 8, 9])"
      ]
     },
     "execution_count": 313,
     "metadata": {},
     "output_type": "execute_result"
    }
   ],
   "source": [
    "arch['a']"
   ]
  },
  {
   "cell_type": "markdown",
   "id": "40518e9d-a35a-470e-a743-f42016c5bcec",
   "metadata": {
    "jp-MarkdownHeadingCollapsed": true
   },
   "source": [
    "## Linear algebra\n",
    "- matrix multiplication, decompositions, determinants, and other square matrix math\n",
    "- element-wise multiplication\n",
    "- dot or @: Matrix multiplication (dot product), both member function and np.dot"
   ]
  },
  {
   "cell_type": "code",
   "execution_count": 317,
   "id": "b677c47c-bcef-4e1f-862c-3577aefa2540",
   "metadata": {},
   "outputs": [],
   "source": [
    "x = np.array([[1., 2., 3.], [4., 5., 6.]])\n",
    "y = np.array([[6., 23.], [-1, 7], [8, 9]])"
   ]
  },
  {
   "cell_type": "code",
   "execution_count": 318,
   "id": "637e3046-162d-405d-9909-6d6fd768a6cb",
   "metadata": {},
   "outputs": [
    {
     "data": {
      "text/plain": [
       "array([[1., 2., 3.],\n",
       "       [4., 5., 6.]])"
      ]
     },
     "execution_count": 318,
     "metadata": {},
     "output_type": "execute_result"
    }
   ],
   "source": [
    "x"
   ]
  },
  {
   "cell_type": "code",
   "execution_count": 319,
   "id": "bdce993c-7f50-4b6c-92ba-00421165fbf7",
   "metadata": {},
   "outputs": [
    {
     "data": {
      "text/plain": [
       "array([[ 6., 23.],\n",
       "       [-1.,  7.],\n",
       "       [ 8.,  9.]])"
      ]
     },
     "execution_count": 319,
     "metadata": {},
     "output_type": "execute_result"
    }
   ],
   "source": [
    "y"
   ]
  },
  {
   "cell_type": "code",
   "execution_count": 320,
   "id": "fc2fb985-95f3-4c41-ad88-6be2d3110158",
   "metadata": {},
   "outputs": [
    {
     "data": {
      "text/plain": [
       "array([[ 28.,  64.],\n",
       "       [ 67., 181.]])"
      ]
     },
     "execution_count": 320,
     "metadata": {},
     "output_type": "execute_result"
    }
   ],
   "source": [
    "x.dot(y) # same as np.dot(x, y) or x@y"
   ]
  }
 ],
 "metadata": {
  "kernelspec": {
   "display_name": "Python 3 (ipykernel)",
   "language": "python",
   "name": "python3"
  },
  "language_info": {
   "codemirror_mode": {
    "name": "ipython",
    "version": 3
   },
   "file_extension": ".py",
   "mimetype": "text/x-python",
   "name": "python",
   "nbconvert_exporter": "python",
   "pygments_lexer": "ipython3",
   "version": "3.8.7"
  }
 },
 "nbformat": 4,
 "nbformat_minor": 5
}
